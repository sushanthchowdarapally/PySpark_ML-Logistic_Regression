{
  "nbformat": 4,
  "nbformat_minor": 0,
  "metadata": {
    "colab": {
      "provenance": []
    },
    "kernelspec": {
      "name": "python3",
      "display_name": "Python 3"
    },
    "language_info": {
      "name": "python"
    },
    "widgets": {
      "application/vnd.jupyter.widget-state+json": {
        "64fbbbef06eb4ba9a9426c3d881d80b2": {
          "model_module": "@jupyter-widgets/controls",
          "model_name": "IntTextModel",
          "model_module_version": "1.5.0",
          "state": {
            "_dom_classes": [],
            "_model_module": "@jupyter-widgets/controls",
            "_model_module_version": "1.5.0",
            "_model_name": "IntTextModel",
            "_view_count": null,
            "_view_module": "@jupyter-widgets/controls",
            "_view_module_version": "1.5.0",
            "_view_name": "IntTextView",
            "continuous_update": false,
            "description": "Enter Student ID:",
            "description_tooltip": null,
            "disabled": false,
            "layout": "IPY_MODEL_d7cf445910d34f93b83a92dc4146021d",
            "step": 1,
            "style": "IPY_MODEL_896730fa23964a3986187fdb56b27d26",
            "value": 0
          }
        },
        "d7cf445910d34f93b83a92dc4146021d": {
          "model_module": "@jupyter-widgets/base",
          "model_name": "LayoutModel",
          "model_module_version": "1.2.0",
          "state": {
            "_model_module": "@jupyter-widgets/base",
            "_model_module_version": "1.2.0",
            "_model_name": "LayoutModel",
            "_view_count": null,
            "_view_module": "@jupyter-widgets/base",
            "_view_module_version": "1.2.0",
            "_view_name": "LayoutView",
            "align_content": null,
            "align_items": null,
            "align_self": null,
            "border": null,
            "bottom": null,
            "display": null,
            "flex": null,
            "flex_flow": null,
            "grid_area": null,
            "grid_auto_columns": null,
            "grid_auto_flow": null,
            "grid_auto_rows": null,
            "grid_column": null,
            "grid_gap": null,
            "grid_row": null,
            "grid_template_areas": null,
            "grid_template_columns": null,
            "grid_template_rows": null,
            "height": null,
            "justify_content": null,
            "justify_items": null,
            "left": null,
            "margin": null,
            "max_height": null,
            "max_width": null,
            "min_height": null,
            "min_width": null,
            "object_fit": null,
            "object_position": null,
            "order": null,
            "overflow": null,
            "overflow_x": null,
            "overflow_y": null,
            "padding": null,
            "right": null,
            "top": null,
            "visibility": null,
            "width": null
          }
        },
        "896730fa23964a3986187fdb56b27d26": {
          "model_module": "@jupyter-widgets/controls",
          "model_name": "DescriptionStyleModel",
          "model_module_version": "1.5.0",
          "state": {
            "_model_module": "@jupyter-widgets/controls",
            "_model_module_version": "1.5.0",
            "_model_name": "DescriptionStyleModel",
            "_view_count": null,
            "_view_module": "@jupyter-widgets/base",
            "_view_module_version": "1.2.0",
            "_view_name": "StyleView",
            "description_width": ""
          }
        }
      }
    }
  },
  "cells": [
    {
      "cell_type": "code",
      "execution_count": 2,
      "metadata": {
        "id": "Z_F4X2O5jsyg",
        "outputId": "ee7f1830-190f-4304-eb33-5e59fbff8300",
        "colab": {
          "base_uri": "https://localhost:8080/"
        }
      },
      "outputs": [
        {
          "output_type": "stream",
          "name": "stdout",
          "text": [
            "Requirement already satisfied: pyspark in /usr/local/lib/python3.12/dist-packages (3.5.1)\n",
            "Requirement already satisfied: py4j==0.10.9.7 in /usr/local/lib/python3.12/dist-packages (from pyspark) (0.10.9.7)\n"
          ]
        }
      ],
      "source": [
        "pip install pyspark"
      ]
    },
    {
      "cell_type": "code",
      "source": [
        "from pyspark.sql import SparkSession\n",
        "spark = (SparkSession.builder.appName(\"PySpark_Tutorial\").getOrCreate())"
      ],
      "metadata": {
        "id": "pUcTvVb0jvWt"
      },
      "execution_count": 3,
      "outputs": []
    },
    {
      "cell_type": "code",
      "source": [
        "spark"
      ],
      "metadata": {
        "colab": {
          "base_uri": "https://localhost:8080/",
          "height": 219
        },
        "id": "d7deLlU0kAUj",
        "outputId": "d19f0ac1-b506-4113-a843-3a9eed8df735"
      },
      "execution_count": 4,
      "outputs": [
        {
          "output_type": "execute_result",
          "data": {
            "text/plain": [
              "<pyspark.sql.session.SparkSession at 0x7e4e573c75f0>"
            ],
            "text/html": [
              "\n",
              "            <div>\n",
              "                <p><b>SparkSession - in-memory</b></p>\n",
              "                \n",
              "        <div>\n",
              "            <p><b>SparkContext</b></p>\n",
              "\n",
              "            <p><a href=\"http://f2c413dc5081:4040\">Spark UI</a></p>\n",
              "\n",
              "            <dl>\n",
              "              <dt>Version</dt>\n",
              "                <dd><code>v3.5.1</code></dd>\n",
              "              <dt>Master</dt>\n",
              "                <dd><code>local[*]</code></dd>\n",
              "              <dt>AppName</dt>\n",
              "                <dd><code>PySpark_Tutorial</code></dd>\n",
              "            </dl>\n",
              "        </div>\n",
              "        \n",
              "            </div>\n",
              "        "
            ]
          },
          "metadata": {},
          "execution_count": 4
        }
      ]
    },
    {
      "cell_type": "code",
      "source": [
        "data = spark.read.csv(\"/content/job.csv\", header=True, inferSchema=True)\n",
        "print(\"Readin the \")\n",
        "data.show()"
      ],
      "metadata": {
        "colab": {
          "base_uri": "https://localhost:8080/"
        },
        "id": "pxEML_X0kBs3",
        "outputId": "49ccb054-d34a-424e-9bf6-b09e9907d3f2"
      },
      "execution_count": 5,
      "outputs": [
        {
          "output_type": "stream",
          "name": "stdout",
          "text": [
            "Readin the \n",
            "+---------+---------+---------+--------------------+--------------------+--------------------+--------------+--------------------+--------------------+-------------------+--------------------+\n",
            "|StudentID|FirstName| LastName|           Institute|               Major|                 GPA|GraduationYear|              Skills|InternshipExperience|  ApplicationStatus|       PreferredRole|\n",
            "+---------+---------+---------+--------------------+--------------------+--------------------+--------------+--------------------+--------------------+-------------------+--------------------+\n",
            "|        1|    Aarav|   Sharma|Indian Institute ...|    Computer Science|                 8.9|        2024.0|Python, Java, Dat...|                 Yes|          Submitted|   Software Engineer|\n",
            "|        2|     Riya|    Singh|National Institut...|Electronics and C...|                 8.5|        2025.0|C++, Embedded Sys...|                 Yes|          In Review|Embedded Systems ...|\n",
            "|        3|   Aditya|   Mishra|Indian Institute ...|Mechanical Engine...|                 7.8|        2024.0|CAD, SolidWorks, ...|                  No|          Submitted| Mechanical Engineer|\n",
            "|        4|   Ishita|     Jain|Indian Institute ...|    Computer Science|                 9.2|        2024.0|Machine Learning,...|                 Yes|          In Review|      Data Scientist|\n",
            "|        5|    Pooja|    Patel|Vellore Institute...|Electronics and C...|                 8.1|        2025.0|Verilog, VHDL, Di...|                  No|          Submitted|VLSI Design Engineer|\n",
            "|        6|    Rahul|    Kumar|Indian Institute ...|   Civil Engineering|                 8.3|        2024.0|AutoCAD, Structur...|                 Yes|Interview Scheduled|      Civil Engineer|\n",
            "|        7|    Sneha|    Gupta|National Institut...|    Computer Science|                 9.0|        2024.0|Web Development, ...|                 Yes|          In Review|Full Stack Developer|\n",
            "|        8|    Kunal|    Verma|Indian Institute ...|Aerospace Enginee...|                 7.9|        2025.0|Aerodynamics, Pro...|                  No|          Submitted|  Aerospace Engineer|\n",
            "|        9|   Anjali|    Yadav|Delhi Technologic...|Information Techn...|                 8.6|        2024.0|Cybersecurity, Ne...|                 Yes|           Rejected|Cybersecurity Ana...|\n",
            "|       10|Siddharth|   Sharma|National Institut...|    Computer Science|                 8.7|        2024.0|Android Developme...|                 Yes|Interview Scheduled|Mobile App Developer|\n",
            "|       11|    Nisha|    Reddy|National Institut...|           Hyderabad|Chemical Engineering|           7.7|                2025|Chemical Process ...|                 No|           Submitted|\n",
            "|       12|    Akash|   Mishra|Indian Institute ...|Electrical Engine...|                 8.4|        2024.0|Power Systems, Co...|                 Yes|          In Review| Electrical Engineer|\n",
            "|       13|   Devika|   Pillai|Indian Institute ...|           Bangalore|        Data Science|           9.5|                2024|R, Python, Statis...|                Yes| Interview Scheduled|\n",
            "|       14|    Arjun|    Singh|National Institut...|Mechanical Engine...|                 8.0|        2025.0|Thermodynamics, C...|                  No|          Submitted| Mechanical Engineer|\n",
            "|       15|    Tanya|    Mehta|Indian Institute ...|        Architecture|                 8.2|        2024.0|AutoCAD, Revit, S...|                 Yes|          In Review|           Architect|\n",
            "|       16|    Varun|    Joshi|Indian Institute ...|Metallurgical Eng...|                 7.6|        2025.0|Material Science,...|                  No|          Submitted|Metallurgical Eng...|\n",
            "|       17|    Priya|    Yadav|National Institut...|   Civil Engineering|                 8.5|        2024.0|Project Managemen...|                 Yes|          In Review|     Project Manager|\n",
            "|       18|    Ankit|      Das|Indian Institute ...|    Computer Science|                 9.1|        2024.0|DevOps, AWS, Dock...|                 Yes|Interview Scheduled|     DevOps Engineer|\n",
            "|       19|    Swati|    Mehra|Indian Institute ...|Information Techn...|                 8.8|        2025.0|UI/UX Design, Fig...|                 Yes|          In Review|      UX/UI Designer|\n",
            "|       20|   Gaurav|Choudhary|Indian Institute ...|Electrical Engine...|                 8.3|        2024.0|Renewable Energy,...|                 Yes|          Submitted|      Power Engineer|\n",
            "+---------+---------+---------+--------------------+--------------------+--------------------+--------------+--------------------+--------------------+-------------------+--------------------+\n",
            "only showing top 20 rows\n",
            "\n"
          ]
        }
      ]
    },
    {
      "cell_type": "code",
      "source": [
        "from pyspark.sql.functions import *\n",
        "mode_data = data.select(mode(\"GPA\")).collect()[0][0]\n",
        "data = data.fillna({\"GPA\" : mode_data})\n",
        "print(\"Filling null values of GPA\")\n",
        "data.show()\n"
      ],
      "metadata": {
        "colab": {
          "base_uri": "https://localhost:8080/"
        },
        "id": "2SdFAkhCkgSJ",
        "outputId": "3d706a09-f620-4aa6-d397-3f096a8a5d16"
      },
      "execution_count": 6,
      "outputs": [
        {
          "output_type": "stream",
          "name": "stdout",
          "text": [
            "Filling null values of GPA\n",
            "+---------+---------+---------+--------------------+--------------------+--------------------+--------------+--------------------+--------------------+-------------------+--------------------+\n",
            "|StudentID|FirstName| LastName|           Institute|               Major|                 GPA|GraduationYear|              Skills|InternshipExperience|  ApplicationStatus|       PreferredRole|\n",
            "+---------+---------+---------+--------------------+--------------------+--------------------+--------------+--------------------+--------------------+-------------------+--------------------+\n",
            "|        1|    Aarav|   Sharma|Indian Institute ...|    Computer Science|                 8.9|        2024.0|Python, Java, Dat...|                 Yes|          Submitted|   Software Engineer|\n",
            "|        2|     Riya|    Singh|National Institut...|Electronics and C...|                 8.5|        2025.0|C++, Embedded Sys...|                 Yes|          In Review|Embedded Systems ...|\n",
            "|        3|   Aditya|   Mishra|Indian Institute ...|Mechanical Engine...|                 7.8|        2024.0|CAD, SolidWorks, ...|                  No|          Submitted| Mechanical Engineer|\n",
            "|        4|   Ishita|     Jain|Indian Institute ...|    Computer Science|                 9.2|        2024.0|Machine Learning,...|                 Yes|          In Review|      Data Scientist|\n",
            "|        5|    Pooja|    Patel|Vellore Institute...|Electronics and C...|                 8.1|        2025.0|Verilog, VHDL, Di...|                  No|          Submitted|VLSI Design Engineer|\n",
            "|        6|    Rahul|    Kumar|Indian Institute ...|   Civil Engineering|                 8.3|        2024.0|AutoCAD, Structur...|                 Yes|Interview Scheduled|      Civil Engineer|\n",
            "|        7|    Sneha|    Gupta|National Institut...|    Computer Science|                 9.0|        2024.0|Web Development, ...|                 Yes|          In Review|Full Stack Developer|\n",
            "|        8|    Kunal|    Verma|Indian Institute ...|Aerospace Enginee...|                 7.9|        2025.0|Aerodynamics, Pro...|                  No|          Submitted|  Aerospace Engineer|\n",
            "|        9|   Anjali|    Yadav|Delhi Technologic...|Information Techn...|                 8.6|        2024.0|Cybersecurity, Ne...|                 Yes|           Rejected|Cybersecurity Ana...|\n",
            "|       10|Siddharth|   Sharma|National Institut...|    Computer Science|                 8.7|        2024.0|Android Developme...|                 Yes|Interview Scheduled|Mobile App Developer|\n",
            "|       11|    Nisha|    Reddy|National Institut...|           Hyderabad|Chemical Engineering|           7.7|                2025|Chemical Process ...|                 No|           Submitted|\n",
            "|       12|    Akash|   Mishra|Indian Institute ...|Electrical Engine...|                 8.4|        2024.0|Power Systems, Co...|                 Yes|          In Review| Electrical Engineer|\n",
            "|       13|   Devika|   Pillai|Indian Institute ...|           Bangalore|        Data Science|           9.5|                2024|R, Python, Statis...|                Yes| Interview Scheduled|\n",
            "|       14|    Arjun|    Singh|National Institut...|Mechanical Engine...|                 8.0|        2025.0|Thermodynamics, C...|                  No|          Submitted| Mechanical Engineer|\n",
            "|       15|    Tanya|    Mehta|Indian Institute ...|        Architecture|                 8.2|        2024.0|AutoCAD, Revit, S...|                 Yes|          In Review|           Architect|\n",
            "|       16|    Varun|    Joshi|Indian Institute ...|Metallurgical Eng...|                 7.6|        2025.0|Material Science,...|                  No|          Submitted|Metallurgical Eng...|\n",
            "|       17|    Priya|    Yadav|National Institut...|   Civil Engineering|                 8.5|        2024.0|Project Managemen...|                 Yes|          In Review|     Project Manager|\n",
            "|       18|    Ankit|      Das|Indian Institute ...|    Computer Science|                 9.1|        2024.0|DevOps, AWS, Dock...|                 Yes|Interview Scheduled|     DevOps Engineer|\n",
            "|       19|    Swati|    Mehra|Indian Institute ...|Information Techn...|                 8.8|        2025.0|UI/UX Design, Fig...|                 Yes|          In Review|      UX/UI Designer|\n",
            "|       20|   Gaurav|Choudhary|Indian Institute ...|Electrical Engine...|                 8.3|        2024.0|Renewable Energy,...|                 Yes|          Submitted|      Power Engineer|\n",
            "+---------+---------+---------+--------------------+--------------------+--------------------+--------------+--------------------+--------------------+-------------------+--------------------+\n",
            "only showing top 20 rows\n",
            "\n"
          ]
        }
      ]
    },
    {
      "cell_type": "code",
      "source": [
        "ie_data = data.fillna({\"InternshipExperience\" : 0})\n",
        "print(\"Filling null values of InternshipExperience\")\n",
        "ie_data.show()"
      ],
      "metadata": {
        "colab": {
          "base_uri": "https://localhost:8080/"
        },
        "id": "9cDhy4TYs9ZC",
        "outputId": "f3687039-c8ec-4172-b537-c9f2d7af012d"
      },
      "execution_count": 7,
      "outputs": [
        {
          "output_type": "stream",
          "name": "stdout",
          "text": [
            "Filling null values of InternshipExperience\n",
            "+---------+---------+---------+--------------------+--------------------+--------------------+--------------+--------------------+--------------------+-------------------+--------------------+\n",
            "|StudentID|FirstName| LastName|           Institute|               Major|                 GPA|GraduationYear|              Skills|InternshipExperience|  ApplicationStatus|       PreferredRole|\n",
            "+---------+---------+---------+--------------------+--------------------+--------------------+--------------+--------------------+--------------------+-------------------+--------------------+\n",
            "|        1|    Aarav|   Sharma|Indian Institute ...|    Computer Science|                 8.9|        2024.0|Python, Java, Dat...|                 Yes|          Submitted|   Software Engineer|\n",
            "|        2|     Riya|    Singh|National Institut...|Electronics and C...|                 8.5|        2025.0|C++, Embedded Sys...|                 Yes|          In Review|Embedded Systems ...|\n",
            "|        3|   Aditya|   Mishra|Indian Institute ...|Mechanical Engine...|                 7.8|        2024.0|CAD, SolidWorks, ...|                  No|          Submitted| Mechanical Engineer|\n",
            "|        4|   Ishita|     Jain|Indian Institute ...|    Computer Science|                 9.2|        2024.0|Machine Learning,...|                 Yes|          In Review|      Data Scientist|\n",
            "|        5|    Pooja|    Patel|Vellore Institute...|Electronics and C...|                 8.1|        2025.0|Verilog, VHDL, Di...|                  No|          Submitted|VLSI Design Engineer|\n",
            "|        6|    Rahul|    Kumar|Indian Institute ...|   Civil Engineering|                 8.3|        2024.0|AutoCAD, Structur...|                 Yes|Interview Scheduled|      Civil Engineer|\n",
            "|        7|    Sneha|    Gupta|National Institut...|    Computer Science|                 9.0|        2024.0|Web Development, ...|                 Yes|          In Review|Full Stack Developer|\n",
            "|        8|    Kunal|    Verma|Indian Institute ...|Aerospace Enginee...|                 7.9|        2025.0|Aerodynamics, Pro...|                  No|          Submitted|  Aerospace Engineer|\n",
            "|        9|   Anjali|    Yadav|Delhi Technologic...|Information Techn...|                 8.6|        2024.0|Cybersecurity, Ne...|                 Yes|           Rejected|Cybersecurity Ana...|\n",
            "|       10|Siddharth|   Sharma|National Institut...|    Computer Science|                 8.7|        2024.0|Android Developme...|                 Yes|Interview Scheduled|Mobile App Developer|\n",
            "|       11|    Nisha|    Reddy|National Institut...|           Hyderabad|Chemical Engineering|           7.7|                2025|Chemical Process ...|                 No|           Submitted|\n",
            "|       12|    Akash|   Mishra|Indian Institute ...|Electrical Engine...|                 8.4|        2024.0|Power Systems, Co...|                 Yes|          In Review| Electrical Engineer|\n",
            "|       13|   Devika|   Pillai|Indian Institute ...|           Bangalore|        Data Science|           9.5|                2024|R, Python, Statis...|                Yes| Interview Scheduled|\n",
            "|       14|    Arjun|    Singh|National Institut...|Mechanical Engine...|                 8.0|        2025.0|Thermodynamics, C...|                  No|          Submitted| Mechanical Engineer|\n",
            "|       15|    Tanya|    Mehta|Indian Institute ...|        Architecture|                 8.2|        2024.0|AutoCAD, Revit, S...|                 Yes|          In Review|           Architect|\n",
            "|       16|    Varun|    Joshi|Indian Institute ...|Metallurgical Eng...|                 7.6|        2025.0|Material Science,...|                  No|          Submitted|Metallurgical Eng...|\n",
            "|       17|    Priya|    Yadav|National Institut...|   Civil Engineering|                 8.5|        2024.0|Project Managemen...|                 Yes|          In Review|     Project Manager|\n",
            "|       18|    Ankit|      Das|Indian Institute ...|    Computer Science|                 9.1|        2024.0|DevOps, AWS, Dock...|                 Yes|Interview Scheduled|     DevOps Engineer|\n",
            "|       19|    Swati|    Mehra|Indian Institute ...|Information Techn...|                 8.8|        2025.0|UI/UX Design, Fig...|                 Yes|          In Review|      UX/UI Designer|\n",
            "|       20|   Gaurav|Choudhary|Indian Institute ...|Electrical Engine...|                 8.3|        2024.0|Renewable Energy,...|                 Yes|          Submitted|      Power Engineer|\n",
            "+---------+---------+---------+--------------------+--------------------+--------------------+--------------+--------------------+--------------------+-------------------+--------------------+\n",
            "only showing top 20 rows\n",
            "\n"
          ]
        }
      ]
    },
    {
      "cell_type": "code",
      "metadata": {
        "colab": {
          "base_uri": "https://localhost:8080/"
        },
        "id": "e380363b",
        "outputId": "7673d225-3512-4dce-e7cb-1fee126dff97"
      },
      "source": [
        "from pyspark.sql.functions import col, isnull\n",
        "from pyspark.sql.types import *\n",
        "\n",
        "# Define the expected schema\n",
        "expected_schema = StructType([\n",
        "    StructField(\"StudentID\", IntegerType(), True),\n",
        "    StructField(\"FirstName\", StringType(), True),\n",
        "    StructField(\"LastName\", StringType(), True),\n",
        "    StructField(\"Institute\", StringType(), True),\n",
        "    StructField(\"Major\", StringType(), True),\n",
        "    StructField(\"GPA\", DoubleType(), True),\n",
        "    StructField(\"GraduationYear\", IntegerType(), True),\n",
        "    StructField(\"Skills\", StringType(), True),\n",
        "    StructField(\"InternshipExperience\", StringType(), True),\n",
        "    StructField(\"ApplicationStatus\", StringType(), True),\n",
        "    StructField(\"PreferredRole\", StringType(), True)\n",
        "])\n",
        "\n",
        "\n",
        "cleaned_data = data.withColumn(\"GPA_casted\", col(\"GPA\").cast(DoubleType()))\\\n",
        "                   .withColumn(\"GraduationYear_casted\", col(\"GraduationYear\").cast(IntegerType()))\n",
        "\n",
        "filtered_data = cleaned_data.filter(col(\"GPA_casted\").isNotNull() & col(\"GraduationYear_casted\").isNotNull())\n",
        "\n",
        "cleaned_data = filtered_data.select([col(field.name) for field in expected_schema.fields])\n",
        "\n",
        "\n",
        "cleaned_data.show()"
      ],
      "execution_count": 8,
      "outputs": [
        {
          "output_type": "stream",
          "name": "stdout",
          "text": [
            "+---------+---------+---------+--------------------+--------------------+---+--------------+--------------------+--------------------+-------------------+--------------------+\n",
            "|StudentID|FirstName| LastName|           Institute|               Major|GPA|GraduationYear|              Skills|InternshipExperience|  ApplicationStatus|       PreferredRole|\n",
            "+---------+---------+---------+--------------------+--------------------+---+--------------+--------------------+--------------------+-------------------+--------------------+\n",
            "|        1|    Aarav|   Sharma|Indian Institute ...|    Computer Science|8.9|        2024.0|Python, Java, Dat...|                 Yes|          Submitted|   Software Engineer|\n",
            "|        2|     Riya|    Singh|National Institut...|Electronics and C...|8.5|        2025.0|C++, Embedded Sys...|                 Yes|          In Review|Embedded Systems ...|\n",
            "|        3|   Aditya|   Mishra|Indian Institute ...|Mechanical Engine...|7.8|        2024.0|CAD, SolidWorks, ...|                  No|          Submitted| Mechanical Engineer|\n",
            "|        4|   Ishita|     Jain|Indian Institute ...|    Computer Science|9.2|        2024.0|Machine Learning,...|                 Yes|          In Review|      Data Scientist|\n",
            "|        5|    Pooja|    Patel|Vellore Institute...|Electronics and C...|8.1|        2025.0|Verilog, VHDL, Di...|                  No|          Submitted|VLSI Design Engineer|\n",
            "|        6|    Rahul|    Kumar|Indian Institute ...|   Civil Engineering|8.3|        2024.0|AutoCAD, Structur...|                 Yes|Interview Scheduled|      Civil Engineer|\n",
            "|        7|    Sneha|    Gupta|National Institut...|    Computer Science|9.0|        2024.0|Web Development, ...|                 Yes|          In Review|Full Stack Developer|\n",
            "|        8|    Kunal|    Verma|Indian Institute ...|Aerospace Enginee...|7.9|        2025.0|Aerodynamics, Pro...|                  No|          Submitted|  Aerospace Engineer|\n",
            "|        9|   Anjali|    Yadav|Delhi Technologic...|Information Techn...|8.6|        2024.0|Cybersecurity, Ne...|                 Yes|           Rejected|Cybersecurity Ana...|\n",
            "|       10|Siddharth|   Sharma|National Institut...|    Computer Science|8.7|        2024.0|Android Developme...|                 Yes|Interview Scheduled|Mobile App Developer|\n",
            "|       12|    Akash|   Mishra|Indian Institute ...|Electrical Engine...|8.4|        2024.0|Power Systems, Co...|                 Yes|          In Review| Electrical Engineer|\n",
            "|       14|    Arjun|    Singh|National Institut...|Mechanical Engine...|8.0|        2025.0|Thermodynamics, C...|                  No|          Submitted| Mechanical Engineer|\n",
            "|       15|    Tanya|    Mehta|Indian Institute ...|        Architecture|8.2|        2024.0|AutoCAD, Revit, S...|                 Yes|          In Review|           Architect|\n",
            "|       16|    Varun|    Joshi|Indian Institute ...|Metallurgical Eng...|7.6|        2025.0|Material Science,...|                  No|          Submitted|Metallurgical Eng...|\n",
            "|       17|    Priya|    Yadav|National Institut...|   Civil Engineering|8.5|        2024.0|Project Managemen...|                 Yes|          In Review|     Project Manager|\n",
            "|       18|    Ankit|      Das|Indian Institute ...|    Computer Science|9.1|        2024.0|DevOps, AWS, Dock...|                 Yes|Interview Scheduled|     DevOps Engineer|\n",
            "|       19|    Swati|    Mehra|Indian Institute ...|Information Techn...|8.8|        2025.0|UI/UX Design, Fig...|                 Yes|          In Review|      UX/UI Designer|\n",
            "|       20|   Gaurav|Choudhary|Indian Institute ...|Electrical Engine...|8.3|        2024.0|Renewable Energy,...|                 Yes|          Submitted|      Power Engineer|\n",
            "|       21|   Shreya|    Gupta|National Institut...|Electronics and C...|8.0|        2025.0|Signal Processing...|                  No|          Submitted|Communications En...|\n",
            "|       22|   Kartik|    Singh|Indian Institute ...|   Civil Engineering|7.9|        2024.0|Structural Design...|                 Yes|Interview Scheduled| Structural Engineer|\n",
            "+---------+---------+---------+--------------------+--------------------+---+--------------+--------------------+--------------------+-------------------+--------------------+\n",
            "only showing top 20 rows\n",
            "\n"
          ]
        }
      ]
    },
    {
      "cell_type": "code",
      "source": [
        "iit_data = cleaned_data.filter(cleaned_data.Institute.startswith(\"Indian\"))\n",
        "iit_data.show()"
      ],
      "metadata": {
        "colab": {
          "base_uri": "https://localhost:8080/"
        },
        "id": "r09bDr9Q54fW",
        "outputId": "b1e674fc-91f1-4c2b-cbd8-856f7835570e"
      },
      "execution_count": 9,
      "outputs": [
        {
          "output_type": "stream",
          "name": "stdout",
          "text": [
            "+---------+---------+---------+--------------------+--------------------+---+--------------+--------------------+--------------------+-------------------+--------------------+\n",
            "|StudentID|FirstName| LastName|           Institute|               Major|GPA|GraduationYear|              Skills|InternshipExperience|  ApplicationStatus|       PreferredRole|\n",
            "+---------+---------+---------+--------------------+--------------------+---+--------------+--------------------+--------------------+-------------------+--------------------+\n",
            "|        1|    Aarav|   Sharma|Indian Institute ...|    Computer Science|8.9|        2024.0|Python, Java, Dat...|                 Yes|          Submitted|   Software Engineer|\n",
            "|        3|   Aditya|   Mishra|Indian Institute ...|Mechanical Engine...|7.8|        2024.0|CAD, SolidWorks, ...|                  No|          Submitted| Mechanical Engineer|\n",
            "|        4|   Ishita|     Jain|Indian Institute ...|    Computer Science|9.2|        2024.0|Machine Learning,...|                 Yes|          In Review|      Data Scientist|\n",
            "|        6|    Rahul|    Kumar|Indian Institute ...|   Civil Engineering|8.3|        2024.0|AutoCAD, Structur...|                 Yes|Interview Scheduled|      Civil Engineer|\n",
            "|        8|    Kunal|    Verma|Indian Institute ...|Aerospace Enginee...|7.9|        2025.0|Aerodynamics, Pro...|                  No|          Submitted|  Aerospace Engineer|\n",
            "|       12|    Akash|   Mishra|Indian Institute ...|Electrical Engine...|8.4|        2024.0|Power Systems, Co...|                 Yes|          In Review| Electrical Engineer|\n",
            "|       15|    Tanya|    Mehta|Indian Institute ...|        Architecture|8.2|        2024.0|AutoCAD, Revit, S...|                 Yes|          In Review|           Architect|\n",
            "|       16|    Varun|    Joshi|Indian Institute ...|Metallurgical Eng...|7.6|        2025.0|Material Science,...|                  No|          Submitted|Metallurgical Eng...|\n",
            "|       18|    Ankit|      Das|Indian Institute ...|    Computer Science|9.1|        2024.0|DevOps, AWS, Dock...|                 Yes|Interview Scheduled|     DevOps Engineer|\n",
            "|       19|    Swati|    Mehra|Indian Institute ...|Information Techn...|8.8|        2025.0|UI/UX Design, Fig...|                 Yes|          In Review|      UX/UI Designer|\n",
            "|       20|   Gaurav|Choudhary|Indian Institute ...|Electrical Engine...|8.3|        2024.0|Renewable Energy,...|                 Yes|          Submitted|      Power Engineer|\n",
            "|       22|   Kartik|    Singh|Indian Institute ...|   Civil Engineering|7.9|        2024.0|Structural Design...|                 Yes|Interview Scheduled| Structural Engineer|\n",
            "|       24|     Neha|     Jain|Indian Institute ...|    Computer Science|8.7|        2024.0|Cloud Computing, ...|                 Yes|          Submitted|      Cloud Engineer|\n",
            "|       26|     Diya|   Sharma|Indian Institute ...|    Computer Science|9.0|        2024.0|Data Analytics, T...|                 Yes|Interview Scheduled|        Data Analyst|\n",
            "|       27|    Vivek|    Kumar|Indian Institute ...|Electrical Engine...|8.2|        2025.0|VLSI Design, Digi...|                 Yes|          In Review|       VLSI Engineer|\n",
            "|       28|     Sana|     Khan|Indian Institute ...|    Computer Science|9.3|        2024.0|Artificial Intell...|                 Yes|Interview Scheduled|      AI/ML Engineer|\n",
            "|       29|    Arnav|   Mittal|Indian Institute ...|Electrical Engine...|8.5|        2024.0|Circuit Design, E...|                 Yes|          In Review|Embedded Systems ...|\n",
            "|       31|    Parth|    Joshi|Indian Institute ...|   Civil Engineering|7.8|        2024.0|Transportation En...|                 Yes|          Submitted|Transportation En...|\n",
            "|       32|   Mitali|    Gupta|Indian Institute ...|    Computer Science|9.4|        2024.0|Cybersecurity, Cr...|                 Yes|Interview Scheduled|Cybersecurity Ana...|\n",
            "|       35|    Palak|     Jain|Indian Institute ...|Chemical Engineering|7.7|        2024.0|Environmental Eng...|                 Yes|          Submitted|Environmental Eng...|\n",
            "+---------+---------+---------+--------------------+--------------------+---+--------------+--------------------+--------------------+-------------------+--------------------+\n",
            "only showing top 20 rows\n",
            "\n"
          ]
        }
      ]
    },
    {
      "cell_type": "code",
      "source": [
        "gpa_data = iit_data.filter(iit_data.GPA >= 8.5)\n",
        "gpa_data.show()\n",
        "major_counts = gpa_data.groupBy(\"Major\").count().withColumnRenamed(\"count\", \"Major_Count\")\n",
        "major_counts.show()"
      ],
      "metadata": {
        "colab": {
          "base_uri": "https://localhost:8080/"
        },
        "id": "xiZaO_J76LUR",
        "outputId": "dd2e254d-8990-4a17-9d85-8a01e7e2aab5"
      },
      "execution_count": 10,
      "outputs": [
        {
          "output_type": "stream",
          "name": "stdout",
          "text": [
            "+---------+---------+---------+--------------------+--------------------+---+--------------+--------------------+--------------------+-------------------+--------------------+\n",
            "|StudentID|FirstName| LastName|           Institute|               Major|GPA|GraduationYear|              Skills|InternshipExperience|  ApplicationStatus|       PreferredRole|\n",
            "+---------+---------+---------+--------------------+--------------------+---+--------------+--------------------+--------------------+-------------------+--------------------+\n",
            "|        1|    Aarav|   Sharma|Indian Institute ...|    Computer Science|8.9|        2024.0|Python, Java, Dat...|                 Yes|          Submitted|   Software Engineer|\n",
            "|        4|   Ishita|     Jain|Indian Institute ...|    Computer Science|9.2|        2024.0|Machine Learning,...|                 Yes|          In Review|      Data Scientist|\n",
            "|       18|    Ankit|      Das|Indian Institute ...|    Computer Science|9.1|        2024.0|DevOps, AWS, Dock...|                 Yes|Interview Scheduled|     DevOps Engineer|\n",
            "|       19|    Swati|    Mehra|Indian Institute ...|Information Techn...|8.8|        2025.0|UI/UX Design, Fig...|                 Yes|          In Review|      UX/UI Designer|\n",
            "|       24|     Neha|     Jain|Indian Institute ...|    Computer Science|8.7|        2024.0|Cloud Computing, ...|                 Yes|          Submitted|      Cloud Engineer|\n",
            "|       26|     Diya|   Sharma|Indian Institute ...|    Computer Science|9.0|        2024.0|Data Analytics, T...|                 Yes|Interview Scheduled|        Data Analyst|\n",
            "|       28|     Sana|     Khan|Indian Institute ...|    Computer Science|9.3|        2024.0|Artificial Intell...|                 Yes|Interview Scheduled|      AI/ML Engineer|\n",
            "|       29|    Arnav|   Mittal|Indian Institute ...|Electrical Engine...|8.5|        2024.0|Circuit Design, E...|                 Yes|          In Review|Embedded Systems ...|\n",
            "|       32|   Mitali|    Gupta|Indian Institute ...|    Computer Science|9.4|        2024.0|Cybersecurity, Cr...|                 Yes|Interview Scheduled|Cybersecurity Ana...|\n",
            "|       37| Siddhant|    Verma|Indian Institute ...|    Computer Science|9.1|        2024.0|Data Science, R, ...|                 Yes|Interview Scheduled|      Data Scientist|\n",
            "|       39|     Yash|   Mishra|Indian Institute ...|Electrical Engine...|8.6|        2025.0|Power Electronics...|                 Yes|          Submitted| Electrical Engineer|\n",
            "|       41|  Abhinav|Choudhary|Indian Institute ...|    Computer Science|8.8|        2025.0|Cloud Computing, ...|                 Yes|          In Review|      Cloud Engineer|\n",
            "|       45|    Sagar|    Singh|Indian Institute ...|   Civil Engineering|8.7|        2024.0|Structural Analys...|                 Yes|Interview Scheduled|      Civil Engineer|\n",
            "|       47|   Vikram|    Kumar|Indian Institute ...|    Computer Science|9.0|        2024.0|Data Analytics, S...|                 Yes|Interview Scheduled|        Data Analyst|\n",
            "|       49|      Raj|    Verma|Indian Institute ...|Mechanical Engine...|8.9|        2024.0|Robotics, Control...|                 Yes|          In Review|   Robotics Engineer|\n",
            "|       51|    Karan|   Sharma|Indian Institute ...|    Computer Science|8.5|        2024.0|Web Development, ...|                 Yes|          Submitted|Full Stack Developer|\n",
            "|       53|    Ayush|    Gupta|Indian Institute ...|Electrical Engine...|8.8|        2024.0|Power Systems, Re...|                 Yes|Interview Scheduled| Electrical Engineer|\n",
            "|       58|    Rahul|    Yadav|Indian Institute ...|Electrical Engine...|8.6|        2024.0|Control Systems, ...|                 Yes|          In Review|Control Systems E...|\n",
            "|       64|    Vivek|    Patel|Indian Institute ...|        Architecture|8.5|        2024.0|Urban Planning, A...|                 Yes|          In Review|           Architect|\n",
            "|       67|   Anjali|    Gupta|Indian Institute ...|    Computer Science|9.1|        2024.0|Cloud Computing, ...|                 Yes|          In Review|      Cloud Engineer|\n",
            "+---------+---------+---------+--------------------+--------------------+---+--------------+--------------------+--------------------+-------------------+--------------------+\n",
            "only showing top 20 rows\n",
            "\n",
            "+--------------------+-----------+\n",
            "|               Major|Major_Count|\n",
            "+--------------------+-----------+\n",
            "|Information Techn...|         10|\n",
            "|Electrical Engine...|         40|\n",
            "|        Architecture|          9|\n",
            "|Mechanical Engine...|         10|\n",
            "|    Computer Science|         93|\n",
            "|   Civil Engineering|         10|\n",
            "+--------------------+-----------+\n",
            "\n"
          ]
        }
      ]
    },
    {
      "cell_type": "code",
      "source": [
        "import pandas as pd\n",
        "import matplotlib.pyplot as plt\n",
        "import seaborn as sns\n",
        "import numpy as np\n",
        "\n",
        "iit_data_pd = major_counts.select(\"Major\", \"Major_Count\").toPandas()\n",
        "plt.figure(figsize=(12, 6))\n",
        "sns.barplot(data=iit_data_pd, x='Major', y='Major_Count')\n",
        "plt.title('Major vs count')\n",
        "plt.xlabel('Major')\n",
        "plt.ylabel('Count')\n",
        "plt.xticks(rotation=45, ha='right')\n",
        "plt.tight_layout()\n",
        "plt.show()"
      ],
      "metadata": {
        "colab": {
          "base_uri": "https://localhost:8080/",
          "height": 330
        },
        "id": "dI8LHINgb45_",
        "outputId": "493b35b4-76b4-4d9c-fde9-f8047db1e1c1"
      },
      "execution_count": 11,
      "outputs": [
        {
          "output_type": "display_data",
          "data": {
            "text/plain": [
              "<Figure size 1200x600 with 1 Axes>"
            ],
            "image/png": "[encoded data removed]"
          },
          "metadata": {}
        }
      ]
    },
    {
      "cell_type": "code",
      "source": [],
      "metadata": {
        "id": "feCeIpK1ZOE6"
      },
      "execution_count": null,
      "outputs": []
    },
    {
      "cell_type": "code",
      "source": [],
      "metadata": {
        "id": "akqMnKdDZOBw"
      },
      "execution_count": null,
      "outputs": []
    },
    {
      "cell_type": "markdown",
      "metadata": {
        "id": "88c33f80"
      },
      "source": [
        "# Task\n",
        "Apply logistic regression to the \"gpa_data\" dataset. Filter the data based on the following criteria: 'Institute' is one of 'IIT', 'NIT', or 'VIT'; 'GPA' is greater than or equal to 8.5; 'InternshipExperience' is 'yes'; and 'Application Status' is 'submitted' or 'Interview Scheduled'. Train a logistic regression model on the filtered data to predict eligibility. Add an input box for the user to enter a student ID. Use the trained model to predict eligibility for the student with the given ID. If the student is predicted as eligible, print \"He/She is eligible\", otherwise print \"Not eligible\"."
      ]
    },
    {
      "cell_type": "markdown",
      "metadata": {
        "id": "c8332553"
      },
      "source": [
        "## Data loading and initial cleaning\n",
        "\n",
        "### Subtask:\n",
        "Load the data and perform initial cleaning steps like handling missing values.\n"
      ]
    },
    {
      "cell_type": "markdown",
      "metadata": {
        "id": "a674fc5a"
      },
      "source": [
        "**Reasoning**:\n",
        "Load the data and perform initial cleaning steps as per the instructions to prepare the data for further processing.\n",
        "\n"
      ]
    },
    {
      "cell_type": "code",
      "metadata": {
        "colab": {
          "base_uri": "https://localhost:8080/"
        },
        "id": "441a2757",
        "outputId": "d33272cb-19bd-43b2-90bf-0892093d9071"
      },
      "source": [
        "from pyspark.sql import SparkSession\n",
        "from pyspark.sql.functions import mode, col, isnull\n",
        "from pyspark.sql.types import *\n",
        "\n",
        "spark = (SparkSession.builder.appName(\"PySpark_Tutorial\").getOrCreate())\n",
        "data = spark.read.csv(\"/content/job.csv\", header=True, inferSchema=True)\n",
        "print(\"Reading the data:\")\n",
        "data.show()\n",
        "\n",
        "# Fill null values in \"GPA\"\n",
        "mode_data = data.select(mode(\"GPA\")).collect()[0][0]\n",
        "data = data.fillna({\"GPA\" : mode_data})\n",
        "print(\"Filling null values of GPA\")\n",
        "data.show()\n",
        "\n",
        "# Fill null values in \"InternshipExperience\"\n",
        "data = data.fillna({\"InternshipExperience\" : \"No\"})\n",
        "print(\"Filling null values of InternshipExperience\")\n",
        "data.show()\n",
        "\n",
        "# Define the expected schema\n",
        "expected_schema = StructType([\n",
        "    StructField(\"StudentID\", IntegerType(), True),\n",
        "    StructField(\"FirstName\", StringType(), True),\n",
        "    StructField(\"LastName\", StringType(), True),\n",
        "    StructField(\"Institute\", StringType(), True),\n",
        "    StructField(\"Major\", StringType(), True),\n",
        "    StructField(\"GPA\", DoubleType(), True),\n",
        "    StructField(\"GraduationYear\", IntegerType(), True),\n",
        "    StructField(\"Skills\", StringType(), True),\n",
        "    StructField(\"InternshipExperience\", StringType(), True),\n",
        "    StructField(\"ApplicationStatus\", StringType(), True),\n",
        "    StructField(\"PreferredRole\", StringType(), True)\n",
        "])\n",
        "\n",
        "# Cast 'GPA' and 'GraduationYear' and filter out nulls\n",
        "cleaned_data = data.withColumn(\"GPA_casted\", col(\"GPA\").cast(DoubleType()))\\\n",
        "                   .withColumn(\"GraduationYear_casted\", col(\"GraduationYear\").cast(IntegerType()))\n",
        "\n",
        "filtered_data = cleaned_data.filter(col(\"GPA_casted\").isNotNull() & col(\"GraduationYear_casted\").isNotNull())\n",
        "\n",
        "# Select the original columns to match the expected schema\n",
        "cleaned_data = filtered_data.select([col(field.name) for field in expected_schema.fields])\n",
        "\n",
        "print(\"Cleaned data:\")\n",
        "cleaned_data.show()"
      ],
      "execution_count": 29,
      "outputs": [
        {
          "output_type": "stream",
          "name": "stdout",
          "text": [
            "Reading the data:\n",
            "+---------+---------+---------+--------------------+--------------------+--------------------+--------------+--------------------+--------------------+-------------------+--------------------+\n",
            "|StudentID|FirstName| LastName|           Institute|               Major|                 GPA|GraduationYear|              Skills|InternshipExperience|  ApplicationStatus|       PreferredRole|\n",
            "+---------+---------+---------+--------------------+--------------------+--------------------+--------------+--------------------+--------------------+-------------------+--------------------+\n",
            "|        1|    Aarav|   Sharma|Indian Institute ...|    Computer Science|                 8.9|        2024.0|Python, Java, Dat...|                 Yes|          Submitted|   Software Engineer|\n",
            "|        2|     Riya|    Singh|National Institut...|Electronics and C...|                 8.5|        2025.0|C++, Embedded Sys...|                 Yes|          In Review|Embedded Systems ...|\n",
            "|        3|   Aditya|   Mishra|Indian Institute ...|Mechanical Engine...|                 7.8|        2024.0|CAD, SolidWorks, ...|                  No|          Submitted| Mechanical Engineer|\n",
            "|        4|   Ishita|     Jain|Indian Institute ...|    Computer Science|                 9.2|        2024.0|Machine Learning,...|                 Yes|          In Review|      Data Scientist|\n",
            "|        5|    Pooja|    Patel|Vellore Institute...|Electronics and C...|                 8.1|        2025.0|Verilog, VHDL, Di...|                  No|          Submitted|VLSI Design Engineer|\n",
            "|        6|    Rahul|    Kumar|Indian Institute ...|   Civil Engineering|                 8.3|        2024.0|AutoCAD, Structur...|                 Yes|Interview Scheduled|      Civil Engineer|\n",
            "|        7|    Sneha|    Gupta|National Institut...|    Computer Science|                 9.0|        2024.0|Web Development, ...|                 Yes|          In Review|Full Stack Developer|\n",
            "|        8|    Kunal|    Verma|Indian Institute ...|Aerospace Enginee...|                 7.9|        2025.0|Aerodynamics, Pro...|                  No|          Submitted|  Aerospace Engineer|\n",
            "|        9|   Anjali|    Yadav|Delhi Technologic...|Information Techn...|                 8.6|        2024.0|Cybersecurity, Ne...|                 Yes|           Rejected|Cybersecurity Ana...|\n",
            "|       10|Siddharth|   Sharma|National Institut...|    Computer Science|                 8.7|        2024.0|Android Developme...|                 Yes|Interview Scheduled|Mobile App Developer|\n",
            "|       11|    Nisha|    Reddy|National Institut...|           Hyderabad|Chemical Engineering|           7.7|                2025|Chemical Process ...|                 No|           Submitted|\n",
            "|       12|    Akash|   Mishra|Indian Institute ...|Electrical Engine...|                 8.4|        2024.0|Power Systems, Co...|                 Yes|          In Review| Electrical Engineer|\n",
            "|       13|   Devika|   Pillai|Indian Institute ...|           Bangalore|        Data Science|           9.5|                2024|R, Python, Statis...|                Yes| Interview Scheduled|\n",
            "|       14|    Arjun|    Singh|National Institut...|Mechanical Engine...|                 8.0|        2025.0|Thermodynamics, C...|                  No|          Submitted| Mechanical Engineer|\n",
            "|       15|    Tanya|    Mehta|Indian Institute ...|        Architecture|                 8.2|        2024.0|AutoCAD, Revit, S...|                 Yes|          In Review|           Architect|\n",
            "|       16|    Varun|    Joshi|Indian Institute ...|Metallurgical Eng...|                 7.6|        2025.0|Material Science,...|                  No|          Submitted|Metallurgical Eng...|\n",
            "|       17|    Priya|    Yadav|National Institut...|   Civil Engineering|                 8.5|        2024.0|Project Managemen...|                 Yes|          In Review|     Project Manager|\n",
            "|       18|    Ankit|      Das|Indian Institute ...|    Computer Science|                 9.1|        2024.0|DevOps, AWS, Dock...|                 Yes|Interview Scheduled|     DevOps Engineer|\n",
            "|       19|    Swati|    Mehra|Indian Institute ...|Information Techn...|                 8.8|        2025.0|UI/UX Design, Fig...|                 Yes|          In Review|      UX/UI Designer|\n",
            "|       20|   Gaurav|Choudhary|Indian Institute ...|Electrical Engine...|                 8.3|        2024.0|Renewable Energy,...|                 Yes|          Submitted|      Power Engineer|\n",
            "+---------+---------+---------+--------------------+--------------------+--------------------+--------------+--------------------+--------------------+-------------------+--------------------+\n",
            "only showing top 20 rows\n",
            "\n",
            "Filling null values of GPA\n",
            "+---------+---------+---------+--------------------+--------------------+--------------------+--------------+--------------------+--------------------+-------------------+--------------------+\n",
            "|StudentID|FirstName| LastName|           Institute|               Major|                 GPA|GraduationYear|              Skills|InternshipExperience|  ApplicationStatus|       PreferredRole|\n",
            "+---------+---------+---------+--------------------+--------------------+--------------------+--------------+--------------------+--------------------+-------------------+--------------------+\n",
            "|        1|    Aarav|   Sharma|Indian Institute ...|    Computer Science|                 8.9|        2024.0|Python, Java, Dat...|                 Yes|          Submitted|   Software Engineer|\n",
            "|        2|     Riya|    Singh|National Institut...|Electronics and C...|                 8.5|        2025.0|C++, Embedded Sys...|                 Yes|          In Review|Embedded Systems ...|\n",
            "|        3|   Aditya|   Mishra|Indian Institute ...|Mechanical Engine...|                 7.8|        2024.0|CAD, SolidWorks, ...|                  No|          Submitted| Mechanical Engineer|\n",
            "|        4|   Ishita|     Jain|Indian Institute ...|    Computer Science|                 9.2|        2024.0|Machine Learning,...|                 Yes|          In Review|      Data Scientist|\n",
            "|        5|    Pooja|    Patel|Vellore Institute...|Electronics and C...|                 8.1|        2025.0|Verilog, VHDL, Di...|                  No|          Submitted|VLSI Design Engineer|\n",
            "|        6|    Rahul|    Kumar|Indian Institute ...|   Civil Engineering|                 8.3|        2024.0|AutoCAD, Structur...|                 Yes|Interview Scheduled|      Civil Engineer|\n",
            "|        7|    Sneha|    Gupta|National Institut...|    Computer Science|                 9.0|        2024.0|Web Development, ...|                 Yes|          In Review|Full Stack Developer|\n",
            "|        8|    Kunal|    Verma|Indian Institute ...|Aerospace Enginee...|                 7.9|        2025.0|Aerodynamics, Pro...|                  No|          Submitted|  Aerospace Engineer|\n",
            "|        9|   Anjali|    Yadav|Delhi Technologic...|Information Techn...|                 8.6|        2024.0|Cybersecurity, Ne...|                 Yes|           Rejected|Cybersecurity Ana...|\n",
            "|       10|Siddharth|   Sharma|National Institut...|    Computer Science|                 8.7|        2024.0|Android Developme...|                 Yes|Interview Scheduled|Mobile App Developer|\n",
            "|       11|    Nisha|    Reddy|National Institut...|           Hyderabad|Chemical Engineering|           7.7|                2025|Chemical Process ...|                 No|           Submitted|\n",
            "|       12|    Akash|   Mishra|Indian Institute ...|Electrical Engine...|                 8.4|        2024.0|Power Systems, Co...|                 Yes|          In Review| Electrical Engineer|\n",
            "|       13|   Devika|   Pillai|Indian Institute ...|           Bangalore|        Data Science|           9.5|                2024|R, Python, Statis...|                Yes| Interview Scheduled|\n",
            "|       14|    Arjun|    Singh|National Institut...|Mechanical Engine...|                 8.0|        2025.0|Thermodynamics, C...|                  No|          Submitted| Mechanical Engineer|\n",
            "|       15|    Tanya|    Mehta|Indian Institute ...|        Architecture|                 8.2|        2024.0|AutoCAD, Revit, S...|                 Yes|          In Review|           Architect|\n",
            "|       16|    Varun|    Joshi|Indian Institute ...|Metallurgical Eng...|                 7.6|        2025.0|Material Science,...|                  No|          Submitted|Metallurgical Eng...|\n",
            "|       17|    Priya|    Yadav|National Institut...|   Civil Engineering|                 8.5|        2024.0|Project Managemen...|                 Yes|          In Review|     Project Manager|\n",
            "|       18|    Ankit|      Das|Indian Institute ...|    Computer Science|                 9.1|        2024.0|DevOps, AWS, Dock...|                 Yes|Interview Scheduled|     DevOps Engineer|\n",
            "|       19|    Swati|    Mehra|Indian Institute ...|Information Techn...|                 8.8|        2025.0|UI/UX Design, Fig...|                 Yes|          In Review|      UX/UI Designer|\n",
            "|       20|   Gaurav|Choudhary|Indian Institute ...|Electrical Engine...|                 8.3|        2024.0|Renewable Energy,...|                 Yes|          Submitted|      Power Engineer|\n",
            "+---------+---------+---------+--------------------+--------------------+--------------------+--------------+--------------------+--------------------+-------------------+--------------------+\n",
            "only showing top 20 rows\n",
            "\n",
            "Filling null values of InternshipExperience\n",
            "+---------+---------+---------+--------------------+--------------------+--------------------+--------------+--------------------+--------------------+-------------------+--------------------+\n",
            "|StudentID|FirstName| LastName|           Institute|               Major|                 GPA|GraduationYear|              Skills|InternshipExperience|  ApplicationStatus|       PreferredRole|\n",
            "+---------+---------+---------+--------------------+--------------------+--------------------+--------------+--------------------+--------------------+-------------------+--------------------+\n",
            "|        1|    Aarav|   Sharma|Indian Institute ...|    Computer Science|                 8.9|        2024.0|Python, Java, Dat...|                 Yes|          Submitted|   Software Engineer|\n",
            "|        2|     Riya|    Singh|National Institut...|Electronics and C...|                 8.5|        2025.0|C++, Embedded Sys...|                 Yes|          In Review|Embedded Systems ...|\n",
            "|        3|   Aditya|   Mishra|Indian Institute ...|Mechanical Engine...|                 7.8|        2024.0|CAD, SolidWorks, ...|                  No|          Submitted| Mechanical Engineer|\n",
            "|        4|   Ishita|     Jain|Indian Institute ...|    Computer Science|                 9.2|        2024.0|Machine Learning,...|                 Yes|          In Review|      Data Scientist|\n",
            "|        5|    Pooja|    Patel|Vellore Institute...|Electronics and C...|                 8.1|        2025.0|Verilog, VHDL, Di...|                  No|          Submitted|VLSI Design Engineer|\n",
            "|        6|    Rahul|    Kumar|Indian Institute ...|   Civil Engineering|                 8.3|        2024.0|AutoCAD, Structur...|                 Yes|Interview Scheduled|      Civil Engineer|\n",
            "|        7|    Sneha|    Gupta|National Institut...|    Computer Science|                 9.0|        2024.0|Web Development, ...|                 Yes|          In Review|Full Stack Developer|\n",
            "|        8|    Kunal|    Verma|Indian Institute ...|Aerospace Enginee...|                 7.9|        2025.0|Aerodynamics, Pro...|                  No|          Submitted|  Aerospace Engineer|\n",
            "|        9|   Anjali|    Yadav|Delhi Technologic...|Information Techn...|                 8.6|        2024.0|Cybersecurity, Ne...|                 Yes|           Rejected|Cybersecurity Ana...|\n",
            "|       10|Siddharth|   Sharma|National Institut...|    Computer Science|                 8.7|        2024.0|Android Developme...|                 Yes|Interview Scheduled|Mobile App Developer|\n",
            "|       11|    Nisha|    Reddy|National Institut...|           Hyderabad|Chemical Engineering|           7.7|                2025|Chemical Process ...|                 No|           Submitted|\n",
            "|       12|    Akash|   Mishra|Indian Institute ...|Electrical Engine...|                 8.4|        2024.0|Power Systems, Co...|                 Yes|          In Review| Electrical Engineer|\n",
            "|       13|   Devika|   Pillai|Indian Institute ...|           Bangalore|        Data Science|           9.5|                2024|R, Python, Statis...|                Yes| Interview Scheduled|\n",
            "|       14|    Arjun|    Singh|National Institut...|Mechanical Engine...|                 8.0|        2025.0|Thermodynamics, C...|                  No|          Submitted| Mechanical Engineer|\n",
            "|       15|    Tanya|    Mehta|Indian Institute ...|        Architecture|                 8.2|        2024.0|AutoCAD, Revit, S...|                 Yes|          In Review|           Architect|\n",
            "|       16|    Varun|    Joshi|Indian Institute ...|Metallurgical Eng...|                 7.6|        2025.0|Material Science,...|                  No|          Submitted|Metallurgical Eng...|\n",
            "|       17|    Priya|    Yadav|National Institut...|   Civil Engineering|                 8.5|        2024.0|Project Managemen...|                 Yes|          In Review|     Project Manager|\n",
            "|       18|    Ankit|      Das|Indian Institute ...|    Computer Science|                 9.1|        2024.0|DevOps, AWS, Dock...|                 Yes|Interview Scheduled|     DevOps Engineer|\n",
            "|       19|    Swati|    Mehra|Indian Institute ...|Information Techn...|                 8.8|        2025.0|UI/UX Design, Fig...|                 Yes|          In Review|      UX/UI Designer|\n",
            "|       20|   Gaurav|Choudhary|Indian Institute ...|Electrical Engine...|                 8.3|        2024.0|Renewable Energy,...|                 Yes|          Submitted|      Power Engineer|\n",
            "+---------+---------+---------+--------------------+--------------------+--------------------+--------------+--------------------+--------------------+-------------------+--------------------+\n",
            "only showing top 20 rows\n",
            "\n",
            "Cleaned data:\n",
            "+---------+---------+---------+--------------------+--------------------+---+--------------+--------------------+--------------------+-------------------+--------------------+\n",
            "|StudentID|FirstName| LastName|           Institute|               Major|GPA|GraduationYear|              Skills|InternshipExperience|  ApplicationStatus|       PreferredRole|\n",
            "+---------+---------+---------+--------------------+--------------------+---+--------------+--------------------+--------------------+-------------------+--------------------+\n",
            "|        1|    Aarav|   Sharma|Indian Institute ...|    Computer Science|8.9|        2024.0|Python, Java, Dat...|                 Yes|          Submitted|   Software Engineer|\n",
            "|        2|     Riya|    Singh|National Institut...|Electronics and C...|8.5|        2025.0|C++, Embedded Sys...|                 Yes|          In Review|Embedded Systems ...|\n",
            "|        3|   Aditya|   Mishra|Indian Institute ...|Mechanical Engine...|7.8|        2024.0|CAD, SolidWorks, ...|                  No|          Submitted| Mechanical Engineer|\n",
            "|        4|   Ishita|     Jain|Indian Institute ...|    Computer Science|9.2|        2024.0|Machine Learning,...|                 Yes|          In Review|      Data Scientist|\n",
            "|        5|    Pooja|    Patel|Vellore Institute...|Electronics and C...|8.1|        2025.0|Verilog, VHDL, Di...|                  No|          Submitted|VLSI Design Engineer|\n",
            "|        6|    Rahul|    Kumar|Indian Institute ...|   Civil Engineering|8.3|        2024.0|AutoCAD, Structur...|                 Yes|Interview Scheduled|      Civil Engineer|\n",
            "|        7|    Sneha|    Gupta|National Institut...|    Computer Science|9.0|        2024.0|Web Development, ...|                 Yes|          In Review|Full Stack Developer|\n",
            "|        8|    Kunal|    Verma|Indian Institute ...|Aerospace Enginee...|7.9|        2025.0|Aerodynamics, Pro...|                  No|          Submitted|  Aerospace Engineer|\n",
            "|        9|   Anjali|    Yadav|Delhi Technologic...|Information Techn...|8.6|        2024.0|Cybersecurity, Ne...|                 Yes|           Rejected|Cybersecurity Ana...|\n",
            "|       10|Siddharth|   Sharma|National Institut...|    Computer Science|8.7|        2024.0|Android Developme...|                 Yes|Interview Scheduled|Mobile App Developer|\n",
            "|       12|    Akash|   Mishra|Indian Institute ...|Electrical Engine...|8.4|        2024.0|Power Systems, Co...|                 Yes|          In Review| Electrical Engineer|\n",
            "|       14|    Arjun|    Singh|National Institut...|Mechanical Engine...|8.0|        2025.0|Thermodynamics, C...|                  No|          Submitted| Mechanical Engineer|\n",
            "|       15|    Tanya|    Mehta|Indian Institute ...|        Architecture|8.2|        2024.0|AutoCAD, Revit, S...|                 Yes|          In Review|           Architect|\n",
            "|       16|    Varun|    Joshi|Indian Institute ...|Metallurgical Eng...|7.6|        2025.0|Material Science,...|                  No|          Submitted|Metallurgical Eng...|\n",
            "|       17|    Priya|    Yadav|National Institut...|   Civil Engineering|8.5|        2024.0|Project Managemen...|                 Yes|          In Review|     Project Manager|\n",
            "|       18|    Ankit|      Das|Indian Institute ...|    Computer Science|9.1|        2024.0|DevOps, AWS, Dock...|                 Yes|Interview Scheduled|     DevOps Engineer|\n",
            "|       19|    Swati|    Mehra|Indian Institute ...|Information Techn...|8.8|        2025.0|UI/UX Design, Fig...|                 Yes|          In Review|      UX/UI Designer|\n",
            "|       20|   Gaurav|Choudhary|Indian Institute ...|Electrical Engine...|8.3|        2024.0|Renewable Energy,...|                 Yes|          Submitted|      Power Engineer|\n",
            "|       21|   Shreya|    Gupta|National Institut...|Electronics and C...|8.0|        2025.0|Signal Processing...|                  No|          Submitted|Communications En...|\n",
            "|       22|   Kartik|    Singh|Indian Institute ...|   Civil Engineering|7.9|        2024.0|Structural Design...|                 Yes|Interview Scheduled| Structural Engineer|\n",
            "+---------+---------+---------+--------------------+--------------------+---+--------------+--------------------+--------------------+-------------------+--------------------+\n",
            "only showing top 20 rows\n",
            "\n"
          ]
        }
      ]
    },
    {
      "cell_type": "markdown",
      "metadata": {
        "id": "431f54f2"
      },
      "source": [
        "## Data preparation for logistic regression\n",
        "\n",
        "### Subtask:\n",
        "Filter the data based on the specified criteria (Institute, GPA, InternshipExperience, ApplicationStatus). Select features (Institute, Major, GPA, InternshipExperience, ApplicationStatus) and the target variable (Eligibility). Convert categorical features to numerical using one-hot encoding.\n"
      ]
    },
    {
      "cell_type": "markdown",
      "metadata": {
        "id": "040de2b5"
      },
      "source": [
        "**Reasoning**:\n",
        "Filter the data based on the specified criteria, select features, create the target variable, and apply one-hot encoding using PySpark MLlib to prepare the data for model training.\n",
        "\n"
      ]
    },
    {
      "cell_type": "code",
      "metadata": {
        "colab": {
          "base_uri": "https://localhost:8080/"
        },
        "id": "fae00c90",
        "outputId": "f859e77c-c408-4de3-d645-0eaa47566edf"
      },
      "source": [
        "from pyspark.ml.feature import OneHotEncoder, StringIndexer, VectorAssembler\n",
        "from pyspark.ml import Pipeline\n",
        "from pyspark.sql.functions import col, when\n",
        "\n",
        "# 1. Filter the data based on the specified criteria\n",
        "filtered_eligibility_data = cleaned_data.filter(\n",
        "    (col(\"Institute\").startswith(\"Indian Institute of Technology\") |\n",
        "     col(\"Institute\").startswith(\"National Institute of Technology\") |\n",
        "     col(\"Institute\").startswith(\"Vellore Institute of Technology\")) &\n",
        "    (col(\"GPA\") >= 8.5) &\n",
        "    (col(\"InternshipExperience\") == \"Yes\") &\n",
        "    ((col(\"ApplicationStatus\") == \"Submitted\") | (col(\"ApplicationStatus\") == \"Interview Scheduled\"))\n",
        ")\n",
        "\n",
        "# 2. Select features and 3. Create the target variable\n",
        "eligibility_data = filtered_eligibility_data.select(\n",
        "    \"Institute\",\n",
        "    \"Major\",\n",
        "    col(\"GPA\").cast(\"double\").alias(\"GPA_double\"), # Cast GPA to double\n",
        "    \"InternshipExperience\",\n",
        "    \"ApplicationStatus\",\n",
        "    when(col(\"ApplicationStatus\") == \"Interview Scheduled\", 1).otherwise(0).alias(\"Eligibility\")\n",
        ")\n",
        "\n",
        "# 4. Apply one-hot encoding\n",
        "categorical_cols = [\"Institute\", \"Major\", \"InternshipExperience\", \"ApplicationStatus\"]\n",
        "indexers = [StringIndexer(inputCol=col, outputCol=col + \"_indexed\", handleInvalid=\"keep\") for col in categorical_cols]\n",
        "encoders = [OneHotEncoder(inputCol=col + \"_indexed\", outputCol=col + \"_encoded\") for col in categorical_cols]\n",
        "\n",
        "# 5. Assemble the encoded features\n",
        "assembler_inputs = [col + \"_encoded\" for col in categorical_cols] + [\"GPA_double\"] # Use the casted GPA column\n",
        "assembler = VectorAssembler(inputCols=assembler_inputs, outputCol=\"features\", handleInvalid=\"keep\")\n",
        "\n",
        "# 8. Create a PySpark Pipeline\n",
        "pipeline = Pipeline(stages=indexers + encoders + [assembler])\n",
        "\n",
        "# 9. Fit the pipeline and transform the data\n",
        "pipeline_model = pipeline.fit(eligibility_data) # Fit the pipeline to the data\n",
        "encoded_data = pipeline_model.transform(eligibility_data)\n",
        "\n",
        "# 10. Display the first few rows of the encoded_data DataFrame\n",
        "encoded_data.show()"
      ],
      "execution_count": 30,
      "outputs": [
        {
          "output_type": "stream",
          "name": "stdout",
          "text": [
            "+--------------------+--------------------+----------+--------------------+-------------------+-----------+-----------------+-------------+----------------------------+-------------------------+-----------------+-------------+----------------------------+-------------------------+--------------------+\n",
            "|           Institute|               Major|GPA_double|InternshipExperience|  ApplicationStatus|Eligibility|Institute_indexed|Major_indexed|InternshipExperience_indexed|ApplicationStatus_indexed|Institute_encoded|Major_encoded|InternshipExperience_encoded|ApplicationStatus_encoded|            features|\n",
            "+--------------------+--------------------+----------+--------------------+-------------------+-----------+-----------------+-------------+----------------------------+-------------------------+-----------------+-------------+----------------------------+-------------------------+--------------------+\n",
            "|Indian Institute ...|    Computer Science|       8.9|                 Yes|          Submitted|          0|             13.0|          0.0|                         0.0|                      1.0|  (14,[13],[1.0])|(5,[0],[1.0])|               (1,[0],[1.0])|            (2,[1],[1.0])|(23,[13,14,19,21,...|\n",
            "|National Institut...|    Computer Science|       8.7|                 Yes|Interview Scheduled|          1|              1.0|          0.0|                         0.0|                      0.0|   (14,[1],[1.0])|(5,[0],[1.0])|               (1,[0],[1.0])|            (2,[0],[1.0])|(23,[1,14,19,20,2...|\n",
            "|Indian Institute ...|    Computer Science|       9.1|                 Yes|Interview Scheduled|          1|             12.0|          0.0|                         0.0|                      0.0|  (14,[12],[1.0])|(5,[0],[1.0])|               (1,[0],[1.0])|            (2,[0],[1.0])|(23,[12,14,19,20,...|\n",
            "|Indian Institute ...|    Computer Science|       8.7|                 Yes|          Submitted|          0|              2.0|          0.0|                         0.0|                      1.0|   (14,[2],[1.0])|(5,[0],[1.0])|               (1,[0],[1.0])|            (2,[1],[1.0])|(23,[2,14,19,21,2...|\n",
            "|Indian Institute ...|    Computer Science|       9.0|                 Yes|Interview Scheduled|          1|              7.0|          0.0|                         0.0|                      0.0|   (14,[7],[1.0])|(5,[0],[1.0])|               (1,[0],[1.0])|            (2,[0],[1.0])|(23,[7,14,19,20,2...|\n",
            "|Indian Institute ...|    Computer Science|       9.3|                 Yes|Interview Scheduled|          1|              0.0|          0.0|                         0.0|                      0.0|   (14,[0],[1.0])|(5,[0],[1.0])|               (1,[0],[1.0])|            (2,[0],[1.0])|(23,[0,14,19,20,2...|\n",
            "|Indian Institute ...|    Computer Science|       9.4|                 Yes|Interview Scheduled|          1|              0.0|          0.0|                         0.0|                      0.0|   (14,[0],[1.0])|(5,[0],[1.0])|               (1,[0],[1.0])|            (2,[0],[1.0])|(23,[0,14,19,20,2...|\n",
            "|Indian Institute ...|    Computer Science|       9.1|                 Yes|Interview Scheduled|          1|              6.0|          0.0|                         0.0|                      0.0|   (14,[6],[1.0])|(5,[0],[1.0])|               (1,[0],[1.0])|            (2,[0],[1.0])|(23,[6,14,19,20,2...|\n",
            "|Indian Institute ...|Electrical Engine...|       8.6|                 Yes|          Submitted|          0|              3.0|          1.0|                         0.0|                      1.0|   (14,[3],[1.0])|(5,[1],[1.0])|               (1,[0],[1.0])|            (2,[1],[1.0])|(23,[3,15,19,21,2...|\n",
            "|Indian Institute ...|   Civil Engineering|       8.7|                 Yes|Interview Scheduled|          1|              5.0|          2.0|                         0.0|                      0.0|   (14,[5],[1.0])|(5,[2],[1.0])|               (1,[0],[1.0])|            (2,[0],[1.0])|(23,[5,16,19,20,2...|\n",
            "|Indian Institute ...|    Computer Science|       9.0|                 Yes|Interview Scheduled|          1|              8.0|          0.0|                         0.0|                      0.0|   (14,[8],[1.0])|(5,[0],[1.0])|               (1,[0],[1.0])|            (2,[0],[1.0])|(23,[8,14,19,20,2...|\n",
            "|National Institut...|    Computer Science|       9.2|                 Yes|Interview Scheduled|          1|              1.0|          0.0|                         0.0|                      0.0|   (14,[1],[1.0])|(5,[0],[1.0])|               (1,[0],[1.0])|            (2,[0],[1.0])|(23,[1,14,19,20,2...|\n",
            "|Indian Institute ...|    Computer Science|       8.5|                 Yes|          Submitted|          0|              4.0|          0.0|                         0.0|                      1.0|   (14,[4],[1.0])|(5,[0],[1.0])|               (1,[0],[1.0])|            (2,[1],[1.0])|(23,[4,14,19,21,2...|\n",
            "|Indian Institute ...|Electrical Engine...|       8.8|                 Yes|Interview Scheduled|          1|              0.0|          1.0|                         0.0|                      0.0|   (14,[0],[1.0])|(5,[1],[1.0])|               (1,[0],[1.0])|            (2,[0],[1.0])|(23,[0,15,19,20,2...|\n",
            "|Vellore Institute...|    Computer Science|       8.7|                 Yes|          Submitted|          0|             10.0|          0.0|                         0.0|                      1.0|  (14,[10],[1.0])|(5,[0],[1.0])|               (1,[0],[1.0])|            (2,[1],[1.0])|(23,[10,14,19,21,...|\n",
            "|National Institut...|Electronics and C...|       9.0|                 Yes|Interview Scheduled|          1|              9.0|          3.0|                         0.0|                      0.0|   (14,[9],[1.0])|(5,[3],[1.0])|               (1,[0],[1.0])|            (2,[0],[1.0])|(23,[9,17,19,20,2...|\n",
            "|National Institut...|    Computer Science|       9.1|                 Yes|Interview Scheduled|          1|              1.0|          0.0|                         0.0|                      0.0|   (14,[1],[1.0])|(5,[0],[1.0])|               (1,[0],[1.0])|            (2,[0],[1.0])|(23,[1,14,19,20,2...|\n",
            "|National Institut...|   Civil Engineering|       8.6|                 Yes|Interview Scheduled|          1|             11.0|          2.0|                         0.0|                      0.0|  (14,[11],[1.0])|(5,[2],[1.0])|               (1,[0],[1.0])|            (2,[0],[1.0])|(23,[11,16,19,20,...|\n",
            "|Indian Institute ...|Information Techn...|       8.8|                 Yes|          Submitted|          0|              0.0|          4.0|                         0.0|                      1.0|   (14,[0],[1.0])|(5,[4],[1.0])|               (1,[0],[1.0])|            (2,[1],[1.0])|(23,[0,18,19,21,2...|\n",
            "|Indian Institute ...|    Computer Science|       8.7|                 Yes|          Submitted|          0|              2.0|          0.0|                         0.0|                      1.0|   (14,[2],[1.0])|(5,[0],[1.0])|               (1,[0],[1.0])|            (2,[1],[1.0])|(23,[2,14,19,21,2...|\n",
            "+--------------------+--------------------+----------+--------------------+-------------------+-----------+-----------------+-------------+----------------------------+-------------------------+-----------------+-------------+----------------------------+-------------------------+--------------------+\n",
            "only showing top 20 rows\n",
            "\n"
          ]
        }
      ]
    },
    {
      "cell_type": "markdown",
      "metadata": {
        "id": "d51e3359"
      },
      "source": [
        "## Model training\n",
        "\n",
        "### Subtask:\n",
        "Train a logistic regression model on the prepared data.\n"
      ]
    },
    {
      "cell_type": "markdown",
      "metadata": {
        "id": "f346664b"
      },
      "source": [
        "**Reasoning**:\n",
        "Train a logistic regression model using the prepared data.\n",
        "\n"
      ]
    },
    {
      "cell_type": "code",
      "metadata": {
        "id": "237b54ea"
      },
      "source": [
        "from pyspark.ml.classification import LogisticRegression\n",
        "\n",
        "lr = LogisticRegression(featuresCol='features', labelCol='Eligibility')\n",
        "lr_model = lr.fit(encoded_data)"
      ],
      "execution_count": 31,
      "outputs": []
    },
    {
      "cell_type": "markdown",
      "metadata": {
        "id": "9cc2c9d3"
      },
      "source": [
        "## Prediction function\n",
        "\n",
        "### Subtask:\n",
        "Create a function that takes a student ID as input, retrieves the student's data, applies the same data preparation steps, and uses the trained model to predict eligibility.\n"
      ]
    },
    {
      "cell_type": "markdown",
      "metadata": {
        "id": "d9620059"
      },
      "source": [
        "**Reasoning**:\n",
        "Define the predict_eligibility function as requested, incorporating the specified steps for filtering, selecting features, casting GPA, transforming data using the pipeline model, and making a prediction with the logistic regression model.\n",
        "\n"
      ]
    },
    {
      "cell_type": "code",
      "metadata": {
        "id": "1c16714a"
      },
      "source": [
        "from pyspark.sql.functions import col, when\n",
        "\n",
        "def predict_eligibility(student_id, cleaned_data, pipeline_model, lr_model):\n",
        "    \"\"\"\n",
        "    Predicts the job eligibility for a given student ID.\n",
        "\n",
        "    Args:\n",
        "        student_id (int): The ID of the student.\n",
        "        cleaned_data (DataFrame): The preprocessed DataFrame containing student data.\n",
        "        pipeline_model (PipelineModel): The fitted pipeline model for data transformation.\n",
        "        lr_model (LogisticRegressionModel): The trained logistic regression model.\n",
        "\n",
        "    Returns:\n",
        "        str: The prediction result or a message if the student is not found.\n",
        "    \"\"\"\n",
        "    student_data = cleaned_data.filter(col(\"StudentID\") == student_id)\n",
        "\n",
        "    if student_data.count() == 0:\n",
        "        return f\"Student with ID {student_id} not found.\"\n",
        "    else:\n",
        "        # Apply the same data preparation steps\n",
        "        student_data_prepared = student_data.select(\n",
        "            \"Institute\",\n",
        "            \"Major\",\n",
        "            col(\"GPA\").cast(\"double\").alias(\"GPA_double\"), # Cast GPA to double\n",
        "            \"InternshipExperience\",\n",
        "            \"ApplicationStatus\"\n",
        "        )\n",
        "\n",
        "        # Transform the student data using the fitted pipeline\n",
        "        transformed_student_data = pipeline_model.transform(student_data_prepared)\n",
        "\n",
        "        # Make a prediction using the trained model\n",
        "        prediction = lr_model.transform(transformed_student_data)\n",
        "\n",
        "        # Get the predicted label\n",
        "        predicted_label = prediction.select(\"prediction\").collect()[0][0]\n",
        "\n",
        "        if predicted_label == 1.0:\n",
        "            return f\"Student with ID {student_id} is predicted to be eligible.\"\n",
        "        else:\n",
        "            return f\"Student with ID {student_id} is predicted to be not eligible.\""
      ],
      "execution_count": 32,
      "outputs": []
    },
    {
      "cell_type": "markdown",
      "metadata": {
        "id": "dde7f537"
      },
      "source": [
        "## User input and prediction\n",
        "\n",
        "### Subtask:\n",
        "Add an input box for the user to enter a student ID. Call the prediction function with the entered ID and display the prediction result.\n"
      ]
    },
    {
      "cell_type": "markdown",
      "metadata": {
        "id": "506aa552"
      },
      "source": [
        "**Reasoning**:\n",
        "Create an integer text box for student ID input and define a function to handle the input and display the prediction.\n",
        "\n"
      ]
    },
    {
      "cell_type": "code",
      "metadata": {
        "colab": {
          "base_uri": "https://localhost:8080/",
          "height": 66,
          "referenced_widgets": [
            "64fbbbef06eb4ba9a9426c3d881d80b2",
            "d7cf445910d34f93b83a92dc4146021d",
            "896730fa23964a3986187fdb56b27d26"
          ]
        },
        "id": "71a8032d",
        "outputId": "9ef57a2f-da01-460e-844f-7626e9ef1db1"
      },
      "source": [
        "import ipywidgets as widgets\n",
        "from IPython.display import display\n",
        "\n",
        "student_id_input = widgets.IntText(\n",
        "    description='Enter Student ID:',\n",
        "    disabled=False\n",
        ")\n",
        "\n",
        "def on_student_id_change(change):\n",
        "    student_id = change['new']\n",
        "    if student_id is not None:\n",
        "        prediction_result = predict_eligibility(student_id, cleaned_data, pipeline_model, lr_model)\n",
        "        print(prediction_result)\n",
        "\n",
        "display(student_id_input)\n",
        "student_id_input.observe(on_student_id_change, names='value')"
      ],
      "execution_count": 47,
      "outputs": [
        {
          "output_type": "stream",
          "name": "stdout",
          "text": [
            "Student with ID 8 is predicted to be not eligible.\n"
          ]
        },
        {
          "output_type": "display_data",
          "data": {
            "text/plain": [
              "IntText(value=0, description='Enter Student ID:')"
            ],
            "application/vnd.jupyter.widget-view+json": {
              "version_major": 2,
              "version_minor": 0,
              "model_id": "64fbbbef06eb4ba9a9426c3d881d80b2"
            }
          },
          "metadata": {}
        }
      ]
    },
    {
      "cell_type": "markdown",
      "metadata": {
        "id": "364c7a4c"
      },
      "source": [
        "## User input and prediction\n",
        "\n",
        "### Subtask:\n",
        "Add an input box for the user to enter a student ID. Call the prediction function with the entered ID and display the prediction result."
      ]
    },
    {
      "cell_type": "markdown",
      "metadata": {
        "id": "2ae38104"
      },
      "source": [
        "**Reasoning**:\n",
        "Create an integer text box for student ID input and define a function to handle the input and display the prediction."
      ]
    },
    {
      "cell_type": "markdown",
      "metadata": {
        "id": "fe2417c4"
      },
      "source": [
        "## Model Evaluation\n",
        "\n",
        "### Subtask:\n",
        "Evaluate the performance of the trained logistic regression model using accuracy, F1 score, precision, and recall."
      ]
    },
    {
      "cell_type": "markdown",
      "metadata": {
        "id": "3230c3d4"
      },
      "source": [
        "**Reasoning**:\n",
        "Use the trained logistic regression model to make predictions on the training data and then calculate the accuracy, F1 score, precision, and recall using PySpark MLlib's BinaryClassificationEvaluator."
      ]
    },
    {
      "cell_type": "code",
      "metadata": {
        "colab": {
          "base_uri": "https://localhost:8080/"
        },
        "id": "ec06175c",
        "outputId": "5e1cef87-ba28-4845-bf06-e0cb49f5a311"
      },
      "source": [
        "from pyspark.ml.evaluation import BinaryClassificationEvaluator\n",
        "from pyspark.mllib.evaluation import BinaryClassificationMetrics\n",
        "from pyspark.sql.functions import col\n",
        "\n",
        "# Make predictions on the training data\n",
        "predictions = lr_model.transform(encoded_data)\n",
        "\n",
        "# Evaluate the model for Area Under ROC\n",
        "evaluator = BinaryClassificationEvaluator(rawPredictionCol=\"rawPrediction\", labelCol=\"Eligibility\", metricName=\"areaUnderROC\")\n",
        "auc = evaluator.evaluate(predictions)\n",
        "print(f\"Area Under ROC: {auc}\")\n",
        "\n",
        "# Calculate Accuracy at threshold 0.5\n",
        "accuracy = predictions.filter(predictions.Eligibility == predictions.prediction).count() / predictions.count()\n",
        "print(f\"Accuracy at threshold 0.5: {accuracy}\")\n",
        "\n",
        "# Calculate Precision, Recall, and F1 Score at threshold 0.5\n",
        "# We need to calculate True Positives, False Positives, and False Negatives at the threshold\n",
        "# For binary classification with a threshold of 0.5, the prediction column already represents the predicted class (0 or 1)\n",
        "\n",
        "true_positives = predictions.filter((col(\"Eligibility\") == 1.0) & (col(\"prediction\") == 1.0)).count()\n",
        "false_positives = predictions.filter((col(\"Eligibility\") == 0.0) & (col(\"prediction\") == 1.0)).count()\n",
        "false_negatives = predictions.filter((col(\"Eligibility\") == 1.0) & (col(\"prediction\") == 0.0)).count()\n",
        "\n",
        "# Calculate Precision\n",
        "precision = true_positives / (true_positives + false_positives) if (true_positives + false_positives) > 0 else 0.0\n",
        "print(f\"Precision at threshold 0.5: {precision}\")\n",
        "\n",
        "# Calculate Recall\n",
        "recall = true_positives / (true_positives + false_negatives) if (true_positives + false_negatives) > 0 else 0.0\n",
        "print(f\"Recall at threshold 0.5: {recall}\")\n",
        "\n",
        "# Calculate F1 Score\n",
        "f1_score = 2 * (precision * recall) / (precision + recall) if (precision + recall) > 0 else 0.0\n",
        "print(f\"F1 Score at threshold 0.5: {f1_score}\")"
      ],
      "execution_count": 44,
      "outputs": [
        {
          "output_type": "stream",
          "name": "stdout",
          "text": [
            "Area Under ROC: 1.0\n",
            "Accuracy at threshold 0.5: 1.0\n",
            "Precision at threshold 0.5: 1.0\n",
            "Recall at threshold 0.5: 1.0\n",
            "F1 Score at threshold 0.5: 1.0\n"
          ]
        }
      ]
    }
  ]
}