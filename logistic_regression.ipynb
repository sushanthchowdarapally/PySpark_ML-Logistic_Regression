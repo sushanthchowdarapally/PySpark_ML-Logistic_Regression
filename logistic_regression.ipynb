{
  "nbformat": 4,
  "nbformat_minor": 0,
  "metadata": {
    "colab": {
      "provenance": []
    },
    "kernelspec": {
      "name": "python3",
      "display_name": "Python 3"
    },
    "language_info": {
      "name": "python"
    }
  },
  "cells": [
    {
      "cell_type": "code",
      "execution_count": 2,
      "metadata": {
        "id": "Z_F4X2O5jsyg",
        "outputId": "be2dd721-ecf7-45a1-baca-886eb4d35b15",
        "colab": {
          "base_uri": "https://localhost:8080/"
        }
      },
      "outputs": [
        {
          "output_type": "stream",
          "name": "stdout",
          "text": [
            "Requirement already satisfied: pyspark in /usr/local/lib/python3.12/dist-packages (3.5.1)\n",
            "Requirement already satisfied: py4j==0.10.9.7 in /usr/local/lib/python3.12/dist-packages (from pyspark) (0.10.9.7)\n"
          ]
        }
      ],
      "source": [
        "pip install pyspark"
      ]
    },
    {
      "cell_type": "code",
      "source": [
        "from pyspark.sql import SparkSession\n",
        "spark = (SparkSession.builder.appName(\"PySpark_Tutorial\").getOrCreate())"
      ],
      "metadata": {
        "id": "pUcTvVb0jvWt"
      },
      "execution_count": 3,
      "outputs": []
    },
    {
      "cell_type": "code",
      "source": [
        "spark"
      ],
      "metadata": {
        "colab": {
          "base_uri": "https://localhost:8080/",
          "height": 219
        },
        "id": "d7deLlU0kAUj",
        "outputId": "251a8087-c904-475d-90f8-34cafc63993f"
      },
      "execution_count": 4,
      "outputs": [
        {
          "output_type": "execute_result",
          "data": {
            "text/plain": [
              "<pyspark.sql.session.SparkSession at 0x7dd8b66f3bf0>"
            ],
            "text/html": [
              "\n",
              "            <div>\n",
              "                <p><b>SparkSession - in-memory</b></p>\n",
              "                \n",
              "        <div>\n",
              "            <p><b>SparkContext</b></p>\n",
              "\n",
              "            <p><a href=\"http://73ae4842ec30:4040\">Spark UI</a></p>\n",
              "\n",
              "            <dl>\n",
              "              <dt>Version</dt>\n",
              "                <dd><code>v3.5.1</code></dd>\n",
              "              <dt>Master</dt>\n",
              "                <dd><code>local[*]</code></dd>\n",
              "              <dt>AppName</dt>\n",
              "                <dd><code>PySpark_Tutorial</code></dd>\n",
              "            </dl>\n",
              "        </div>\n",
              "        \n",
              "            </div>\n",
              "        "
            ]
          },
          "metadata": {},
          "execution_count": 4
        }
      ]
    },
    {
      "cell_type": "code",
      "source": [
        "data = spark.read.csv(\"/content/job.csv\", header=True, inferSchema=True)\n",
        "print(\"Readin the \")\n",
        "data.show(100)"
      ],
      "metadata": {
        "colab": {
          "base_uri": "https://localhost:8080/"
        },
        "id": "pxEML_X0kBs3",
        "outputId": "e5ea2b37-1e66-47f4-cbd8-fe92ffdd715b"
      },
      "execution_count": 37,
      "outputs": [
        {
          "output_type": "stream",
          "name": "stdout",
          "text": [
            "Readin the \n",
            "+---------+---------+---------+--------------------+--------------------+--------------------+--------------+--------------------+--------------------+-------------------+--------------------+\n",
            "|StudentID|FirstName| LastName|           Institute|               Major|                 GPA|GraduationYear|              Skills|InternshipExperience|  ApplicationStatus|       PreferredRole|\n",
            "+---------+---------+---------+--------------------+--------------------+--------------------+--------------+--------------------+--------------------+-------------------+--------------------+\n",
            "|        1|    Aarav|   Sharma|Indian Institute ...|    Computer Science|                 8.9|        2024.0|Python, Java, Dat...|                 Yes|          Submitted|   Software Engineer|\n",
            "|        2|     Riya|    Singh|National Institut...|Electronics and C...|                 8.5|        2025.0|C++, Embedded Sys...|                 Yes|          In Review|Embedded Systems ...|\n",
            "|        3|   Aditya|   Mishra|Indian Institute ...|Mechanical Engine...|                 7.8|        2024.0|CAD, SolidWorks, ...|                  No|          Submitted| Mechanical Engineer|\n",
            "|        4|   Ishita|     Jain|Indian Institute ...|    Computer Science|                 9.2|        2024.0|Machine Learning,...|                 Yes|          In Review|      Data Scientist|\n",
            "|        5|    Pooja|    Patel|Vellore Institute...|Electronics and C...|                 8.1|        2025.0|Verilog, VHDL, Di...|                  No|          Submitted|VLSI Design Engineer|\n",
            "|        6|    Rahul|    Kumar|Indian Institute ...|   Civil Engineering|                 8.3|        2024.0|AutoCAD, Structur...|                 Yes|Interview Scheduled|      Civil Engineer|\n",
            "|        7|    Sneha|    Gupta|National Institut...|    Computer Science|                 9.0|        2024.0|Web Development, ...|                 Yes|          In Review|Full Stack Developer|\n",
            "|        8|    Kunal|    Verma|Indian Institute ...|Aerospace Enginee...|                 7.9|        2025.0|Aerodynamics, Pro...|                  No|          Submitted|  Aerospace Engineer|\n",
            "|        9|   Anjali|    Yadav|Delhi Technologic...|Information Techn...|                 8.6|        2024.0|Cybersecurity, Ne...|                 Yes|           Rejected|Cybersecurity Ana...|\n",
            "|       10|Siddharth|   Sharma|National Institut...|    Computer Science|                 8.7|        2024.0|Android Developme...|                 Yes|Interview Scheduled|Mobile App Developer|\n",
            "|       11|    Nisha|    Reddy|National Institut...|           Hyderabad|Chemical Engineering|           7.7|                2025|Chemical Process ...|                 No|           Submitted|\n",
            "|       12|    Akash|   Mishra|Indian Institute ...|Electrical Engine...|                 8.4|        2024.0|Power Systems, Co...|                 Yes|          In Review| Electrical Engineer|\n",
            "|       13|   Devika|   Pillai|Indian Institute ...|           Bangalore|        Data Science|           9.5|                2024|R, Python, Statis...|                Yes| Interview Scheduled|\n",
            "|       14|    Arjun|    Singh|National Institut...|Mechanical Engine...|                 8.0|        2025.0|Thermodynamics, C...|                  No|          Submitted| Mechanical Engineer|\n",
            "|       15|    Tanya|    Mehta|Indian Institute ...|        Architecture|                 8.2|        2024.0|AutoCAD, Revit, S...|                 Yes|          In Review|           Architect|\n",
            "|       16|    Varun|    Joshi|Indian Institute ...|Metallurgical Eng...|                 7.6|        2025.0|Material Science,...|                  No|          Submitted|Metallurgical Eng...|\n",
            "|       17|    Priya|    Yadav|National Institut...|   Civil Engineering|                 8.5|        2024.0|Project Managemen...|                 Yes|          In Review|     Project Manager|\n",
            "|       18|    Ankit|      Das|Indian Institute ...|    Computer Science|                 9.1|        2024.0|DevOps, AWS, Dock...|                 Yes|Interview Scheduled|     DevOps Engineer|\n",
            "|       19|    Swati|    Mehra|Indian Institute ...|Information Techn...|                 8.8|        2025.0|UI/UX Design, Fig...|                 Yes|          In Review|      UX/UI Designer|\n",
            "|       20|   Gaurav|Choudhary|Indian Institute ...|Electrical Engine...|                 8.3|        2024.0|Renewable Energy,...|                 Yes|          Submitted|      Power Engineer|\n",
            "|       21|   Shreya|    Gupta|National Institut...|Electronics and C...|                 8.0|        2025.0|Signal Processing...|                  No|          Submitted|Communications En...|\n",
            "|       22|   Kartik|    Singh|Indian Institute ...|   Civil Engineering|                 7.9|        2024.0|Structural Design...|                 Yes|Interview Scheduled| Structural Engineer|\n",
            "|       23|    Rohan|    Kumar|National Institut...|Mechanical Engine...|                 8.6|        2024.0|Robotics, Mechatr...|                 Yes|          In Review|   Robotics Engineer|\n",
            "|       24|     Neha|     Jain|Indian Institute ...|    Computer Science|                 8.7|        2024.0|Cloud Computing, ...|                 Yes|          Submitted|      Cloud Engineer|\n",
            "|       25| Abhishek|    Patel|National Institut...|Chemical Engineering|                 7.5|        2025.0|Process Simulatio...|                  No|          Submitted|   Chemical Engineer|\n",
            "|       26|     Diya|   Sharma|Indian Institute ...|    Computer Science|                 9.0|        2024.0|Data Analytics, T...|                 Yes|Interview Scheduled|        Data Analyst|\n",
            "|       27|    Vivek|    Kumar|Indian Institute ...|Electrical Engine...|                 8.2|        2025.0|VLSI Design, Digi...|                 Yes|          In Review|       VLSI Engineer|\n",
            "|       28|     Sana|     Khan|Indian Institute ...|    Computer Science|                 9.3|        2024.0|Artificial Intell...|                 Yes|Interview Scheduled|      AI/ML Engineer|\n",
            "|       29|    Arnav|   Mittal|Indian Institute ...|Electrical Engine...|                 8.5|        2024.0|Circuit Design, E...|                 Yes|          In Review|Embedded Systems ...|\n",
            "|       30|  Kritika|    Singh|National Institut...|Electronics and C...|                 8.1|        2025.0|Microcontrollers,...|                  No|          Submitted|   Hardware Engineer|\n",
            "|       31|    Parth|    Joshi|Indian Institute ...|   Civil Engineering|                 7.8|        2024.0|Transportation En...|                 Yes|          Submitted|Transportation En...|\n",
            "|       32|   Mitali|    Gupta|Indian Institute ...|    Computer Science|                 9.4|        2024.0|Cybersecurity, Cr...|                 Yes|Interview Scheduled|Cybersecurity Ana...|\n",
            "|       33|    Aditi|   Sharma|National Institut...|    Computer Science|                 8.9|        2024.0|Web Development, ...|                 Yes|          In Review|Full Stack Developer|\n",
            "|       34|    Rohit|    Kumar|National Institut...|Mechanical Engine...|                 8.0|        2025.0|Automotive Engine...|                  No|          Submitted| Automotive Engineer|\n",
            "|       35|    Palak|     Jain|Indian Institute ...|Chemical Engineering|                 7.7|        2024.0|Environmental Eng...|                 Yes|          Submitted|Environmental Eng...|\n",
            "|       36|    Aryan|    Patel|National Institut...|Electronics and C...|                 8.4|        2025.0|RF Engineering, A...|                  No|          Submitted|         RF Engineer|\n",
            "|       37| Siddhant|    Verma|Indian Institute ...|    Computer Science|                 9.1|        2024.0|Data Science, R, ...|                 Yes|Interview Scheduled|      Data Scientist|\n",
            "|       38|    Kavya|    Reddy|National Institut...|   Civil Engineering|                 8.3|        2024.0|Geotechnical Engi...|                 Yes|          In Review|Geotechnical Engi...|\n",
            "|       39|     Yash|   Mishra|Indian Institute ...|Electrical Engine...|                 8.6|        2025.0|Power Electronics...|                 Yes|          Submitted| Electrical Engineer|\n",
            "|       40|    Disha|    Singh|Indian Institute ...|  Mining Engineering|                 7.9|        2024.0|Mining Operations...|                  No|          Submitted|     Mining Engineer|\n",
            "|       41|  Abhinav|Choudhary|Indian Institute ...|    Computer Science|                 8.8|        2025.0|Cloud Computing, ...|                 Yes|          In Review|      Cloud Engineer|\n",
            "|       42|    Meera|   Sharma|Indian Institute ...|Electrical Engine...|                 8.1|        2024.0|Power Systems, Re...|                 Yes|          Submitted|      Power Engineer|\n",
            "|       43|  Rishabh|    Gupta|National Institut...|Mechanical Engine...|                 8.5|        2024.0|Thermodynamics, F...|                 Yes|          In Review| Mechanical Engineer|\n",
            "|       44|    Pooja|   Kumari|Indian Institute ...|Chemical Engineering|                 7.8|        2025.0|Biochemical Engin...|                  No|          Submitted|Biochemical Engineer|\n",
            "|       45|    Sagar|    Singh|Indian Institute ...|   Civil Engineering|                 8.7|        2024.0|Structural Analys...|                 Yes|Interview Scheduled|      Civil Engineer|\n",
            "|       46|    Divya|    Yadav|National Institut...|Electronics and C...|                 8.2|        2024.0|Embedded Systems,...|                 Yes|          In Review|Embedded Systems ...|\n",
            "|       47|   Vikram|    Kumar|Indian Institute ...|    Computer Science|                 9.0|        2024.0|Data Analytics, S...|                 Yes|Interview Scheduled|        Data Analyst|\n",
            "|       48|   Anisha|   Mishra|Indian Institute ...|   Civil Engineering|                 8.4|        2025.0|Environmental Eng...|                  No|          Submitted|Environmental Eng...|\n",
            "|       49|      Raj|    Verma|Indian Institute ...|Mechanical Engine...|                 8.9|        2024.0|Robotics, Control...|                 Yes|          In Review|   Robotics Engineer|\n",
            "|       50|   Simran|     Jain|National Institut...|    Computer Science|                 9.2|        2024.0|Machine Learning,...|                 Yes|Interview Scheduled|      Data Scientist|\n",
            "|       51|    Karan|   Sharma|Indian Institute ...|    Computer Science|                 8.5|        2024.0|Web Development, ...|                 Yes|          Submitted|Full Stack Developer|\n",
            "|       52|    Priya|    Singh|National Institut...|Mechanical Engine...|                 8.0|        2025.0|Thermodynamics, C...|                  No|          Submitted| Mechanical Engineer|\n",
            "|       53|    Ayush|    Gupta|Indian Institute ...|Electrical Engine...|                 8.8|        2024.0|Power Systems, Re...|                 Yes|Interview Scheduled| Electrical Engineer|\n",
            "|       54|   Ananya|    Patel|Indian Institute ...|   Civil Engineering|                 8.3|        2024.0|Structural Analys...|                 Yes|          In Review|      Civil Engineer|\n",
            "|       55|  Saurabh|    Joshi|Vellore Institute...|    Computer Science|                 8.7|        2025.0|Android Developme...|                 Yes|          Submitted|Mobile App Developer|\n",
            "|       56| Divyansh|    Kumar|Indian Institute ...|Aerospace Enginee...|                 7.9|        2024.0|Aerodynamics, Pro...|                  No|          Submitted|  Aerospace Engineer|\n",
            "|       57|  Shalini|   Mishra|National Institut...|Electronics and C...|                 9.0|        2024.0|VLSI Design, Digi...|                 Yes|Interview Scheduled|VLSI Design Engineer|\n",
            "|       58|    Rahul|    Yadav|Indian Institute ...|Electrical Engine...|                 8.6|        2024.0|Control Systems, ...|                 Yes|          In Review|Control Systems E...|\n",
            "|       59|   Shruti|    Singh|Delhi Technologic...|Information Techn...|                 8.1|        2025.0|Cybersecurity, Ne...|                  No|          Submitted|Cybersecurity Ana...|\n",
            "|       60|  Abhinav|    Mehta|National Institut...|    Computer Science|                 9.1|        2024.0|Data Science, Mac...|                 Yes|Interview Scheduled|      Data Scientist|\n",
            "|       61|    Pooja|   Sharma|Indian Institute ...|Chemical Engineering|                 7.8|        2024.0|Process Design, C...|                 Yes|          In Review|    Process Engineer|\n",
            "|       62|    Arjun|    Kumar|Indian Institute ...|           Bangalore|        Data Science|           9.4|                2025|Machine Learning,...|                Yes| Interview Scheduled|\n",
            "|       63|    Sneha|    Singh|National Institut...|Mechanical Engine...|                 8.2|        2024.0|Robotics, Mechatr...|                 Yes|          Submitted|   Robotics Engineer|\n",
            "|       64|    Vivek|    Patel|Indian Institute ...|        Architecture|                 8.5|        2024.0|Urban Planning, A...|                 Yes|          In Review|           Architect|\n",
            "|       65|    Nisha|    Yadav|Indian Institute ...|Metallurgical Eng...|                 7.7|        2025.0|Material Science,...|                  No|          Submitted|Metallurgical Eng...|\n",
            "|       66|Siddharth|   Sharma|National Institut...|   Civil Engineering|                 8.6|        2024.0|Construction Mana...|                 Yes|Interview Scheduled|     Project Manager|\n",
            "|       67|   Anjali|    Gupta|Indian Institute ...|    Computer Science|                 9.1|        2024.0|Cloud Computing, ...|                 Yes|          In Review|      Cloud Engineer|\n",
            "|       68|    Rohan|    Kumar|Indian Institute ...|Information Techn...|                 8.8|        2025.0|UI/UX Design, Fig...|                 Yes|          Submitted|      UX/UI Designer|\n",
            "|       69|   Surbhi|    Singh|Indian Institute ...|Electrical Engine...|                 8.3|        2024.0|Renewable Energy,...|                 Yes|          Submitted|      Power Engineer|\n",
            "|       70|    Akash|   Mishra|National Institut...|Electronics and C...|                 8.0|        2025.0|Digital Signal Pr...|                  No|          Submitted|Communications En...|\n",
            "|       71|    Divya|    Patel|Indian Institute ...|   Civil Engineering|                 7.9|        2024.0|Geotechnical Engi...|                 Yes|Interview Scheduled|Geotechnical Engi...|\n",
            "|       72|    Rahul|     Jain|National Institut...|Mechanical Engine...|                 8.6|        2024.0|HVAC Design, Ther...|                 Yes|          In Review| Mechanical Engineer|\n",
            "|       73|   Shruti|   Sharma|Indian Institute ...|    Computer Science|                 8.7|        2024.0|Data Analytics, T...|                 Yes|          Submitted|        Data Analyst|\n",
            "|       74|    Mohit|    Kumar|National Institut...|Chemical Engineering|                 7.5|        2025.0|Polymer Science, ...|                  No|          Submitted|    Polymer Engineer|\n",
            "|       75|     Neha|    Gupta|Indian Institute ...|    Computer Science|                 9.0|        2024.0|Web Development, ...|                 Yes|Interview Scheduled|Full Stack Developer|\n",
            "|       76|   Aditya|    Singh|Indian Institute ...|Electrical Engine...|                 8.2|        2025.0|Embedded Systems,...|                 Yes|          In Review|Embedded Systems ...|\n",
            "|       77| Priyanka|     Jain|Indian Institute ...|    Computer Science|                 9.3|        2024.0|Artificial Intell...|                 Yes|Interview Scheduled|      AI/ML Engineer|\n",
            "|       78|   Vikram|    Patel|Indian Institute ...|Electrical Engine...|                 8.5|        2024.0|Power Electronics...|                 Yes|          In Review| Electrical Engineer|\n",
            "|       79|   Anjali|    Yadav|National Institut...|Electronics and C...|                 8.1|        2025.0|Robotics, Mechatr...|                  No|          Submitted|   Robotics Engineer|\n",
            "|       80|    Sumit|    Kumar|Indian Institute ...|   Civil Engineering|                 7.8|        2024.0|Transportation En...|                 Yes|          Submitted|Transportation En...|\n",
            "|       81|    Aisha|     Khan|Indian Institute ...|    Computer Science|                 9.4|        2024.0|Data Science, Pyt...|                 Yes|Interview Scheduled|      Data Scientist|\n",
            "|       82|    Rohan|   Sharma|National Institut...|    Computer Science|                 8.9|        2024.0|Cybersecurity, Ne...|                 Yes|          In Review|Cybersecurity Ana...|\n",
            "|       83|    Nisha|    Reddy|National Institut...|Mechanical Engine...|                 8.0|        2025.0|Automotive Engine...|                  No|          Submitted| Automotive Engineer|\n",
            "|       84|   Gaurav|    Singh|Indian Institute ...|Chemical Engineering|                 7.7|        2024.0|Environmental Eng...|                 Yes|          Submitted|Environmental Eng...|\n",
            "|       85|   Shruti|    Patel|National Institut...|Electronics and C...|                 8.4|        2025.0|Communication Sys...|                  No|          Submitted|Communications En...|\n",
            "|       86|    Karan|    Gupta|Indian Institute ...|    Computer Science|                 9.1|        2024.0|Web Development, ...|                 Yes|Interview Scheduled|Full Stack Developer|\n",
            "|       87|    Megha|    Singh|National Institut...|   Civil Engineering|                 8.3|        2024.0|Structural Design...|                 Yes|          In Review| Structural Engineer|\n",
            "|       88|    Rohit|    Yadav|Indian Institute ...|Electrical Engine...|                 8.6|        2025.0|Power Systems, Hi...|                 Yes|          Submitted|      Power Engineer|\n",
            "|       89|  Sanjana|    Mehra|Indian Institute ...|  Mining Engineering|                 7.9|        2024.0|Mine Safety, Geot...|                  No|          Submitted|     Mining Engineer|\n",
            "|       90|    Vikas|    Kumar|Indian Institute ...|    Computer Science|                 8.8|        2025.0|Cloud Computing, ...|                 Yes|          In Review|      Cloud Engineer|\n",
            "|       91|    Priya|   Sharma|Indian Institute ...|Electrical Engine...|                 8.1|        2024.0|Renewable Energy,...|                 Yes|          Submitted|Renewable Energy ...|\n",
            "|       92|    Mohit|    Gupta|National Institut...|Mechanical Engine...|                 8.5|        2024.0|HVAC, CAD, SolidW...|                 Yes|          In Review| Mechanical Engineer|\n",
            "|       93|   Ankita|    Singh|Indian Institute ...|Chemical Engineering|                 7.8|        2025.0|Biochemical Engin...|                  No|          Submitted|Biochemical Engineer|\n",
            "|       94|    Akash|   Mishra|Indian Institute ...|   Civil Engineering|                 8.7|        2024.0|Water Resource En...|                 Yes|Interview Scheduled|Water Resource En...|\n",
            "|       95|    Kriti|    Yadav|National Institut...|Electronics and C...|                 8.2|        2024.0|Embedded Systems,...|                 Yes|          In Review|Embedded Systems ...|\n",
            "|       96|   Ashish|    Kumar|Indian Institute ...|    Computer Science|                 9.0|        2024.0|Data Analytics, S...|                 Yes|Interview Scheduled|        Data Analyst|\n",
            "|       97|    Megha|    Singh|Indian Institute ...|   Civil Engineering|                 8.4|        2025.0|Transportation En...|                  No|          Submitted|Transportation En...|\n",
            "|       98|     Arun|   Sharma|Indian Institute ...|Mechanical Engine...|                 8.9|        2024.0|Robotics, Mechatr...|                 Yes|          In Review|   Robotics Engineer|\n",
            "|       99|   Nikita|     Jain|National Institut...|    Computer Science|                 9.2|        2024.0|Machine Learning,...|                 Yes|Interview Scheduled|      AI/ML Engineer|\n",
            "|      100|   Deepak|    Kumar|Indian Institute ...|    Computer Science|                 8.5|        2024.0|Web Development, ...|                 Yes|          Submitted|Full Stack Developer|\n",
            "+---------+---------+---------+--------------------+--------------------+--------------------+--------------+--------------------+--------------------+-------------------+--------------------+\n",
            "only showing top 100 rows\n",
            "\n"
          ]
        }
      ]
    },
    {
      "cell_type": "code",
      "source": [
        "from pyspark.sql.functions import *\n",
        "mode_data = data.select(mode(\"GPA\")).collect()[0][0]\n",
        "data = data.fillna({\"GPA\" : mode_data})\n",
        "print(\"Filling null values of GPA\")\n",
        "data.show()\n"
      ],
      "metadata": {
        "colab": {
          "base_uri": "https://localhost:8080/"
        },
        "id": "2SdFAkhCkgSJ",
        "outputId": "bef2ab46-b86c-4135-f6e8-9ad7ed5f49ac"
      },
      "execution_count": 6,
      "outputs": [
        {
          "output_type": "stream",
          "name": "stdout",
          "text": [
            "Filling null values of GPA\n",
            "+---------+---------+---------+--------------------+--------------------+--------------------+--------------+--------------------+--------------------+-------------------+--------------------+\n",
            "|StudentID|FirstName| LastName|           Institute|               Major|                 GPA|GraduationYear|              Skills|InternshipExperience|  ApplicationStatus|       PreferredRole|\n",
            "+---------+---------+---------+--------------------+--------------------+--------------------+--------------+--------------------+--------------------+-------------------+--------------------+\n",
            "|        1|    Aarav|   Sharma|Indian Institute ...|    Computer Science|                 8.9|        2024.0|Python, Java, Dat...|                 Yes|          Submitted|   Software Engineer|\n",
            "|        2|     Riya|    Singh|National Institut...|Electronics and C...|                 8.5|        2025.0|C++, Embedded Sys...|                 Yes|          In Review|Embedded Systems ...|\n",
            "|        3|   Aditya|   Mishra|Indian Institute ...|Mechanical Engine...|                 7.8|        2024.0|CAD, SolidWorks, ...|                  No|          Submitted| Mechanical Engineer|\n",
            "|        4|   Ishita|     Jain|Indian Institute ...|    Computer Science|                 9.2|        2024.0|Machine Learning,...|                 Yes|          In Review|      Data Scientist|\n",
            "|        5|    Pooja|    Patel|Vellore Institute...|Electronics and C...|                 8.1|        2025.0|Verilog, VHDL, Di...|                  No|          Submitted|VLSI Design Engineer|\n",
            "|        6|    Rahul|    Kumar|Indian Institute ...|   Civil Engineering|                 8.3|        2024.0|AutoCAD, Structur...|                 Yes|Interview Scheduled|      Civil Engineer|\n",
            "|        7|    Sneha|    Gupta|National Institut...|    Computer Science|                 9.0|        2024.0|Web Development, ...|                 Yes|          In Review|Full Stack Developer|\n",
            "|        8|    Kunal|    Verma|Indian Institute ...|Aerospace Enginee...|                 7.9|        2025.0|Aerodynamics, Pro...|                  No|          Submitted|  Aerospace Engineer|\n",
            "|        9|   Anjali|    Yadav|Delhi Technologic...|Information Techn...|                 8.6|        2024.0|Cybersecurity, Ne...|                 Yes|           Rejected|Cybersecurity Ana...|\n",
            "|       10|Siddharth|   Sharma|National Institut...|    Computer Science|                 8.7|        2024.0|Android Developme...|                 Yes|Interview Scheduled|Mobile App Developer|\n",
            "|       11|    Nisha|    Reddy|National Institut...|           Hyderabad|Chemical Engineering|           7.7|                2025|Chemical Process ...|                 No|           Submitted|\n",
            "|       12|    Akash|   Mishra|Indian Institute ...|Electrical Engine...|                 8.4|        2024.0|Power Systems, Co...|                 Yes|          In Review| Electrical Engineer|\n",
            "|       13|   Devika|   Pillai|Indian Institute ...|           Bangalore|        Data Science|           9.5|                2024|R, Python, Statis...|                Yes| Interview Scheduled|\n",
            "|       14|    Arjun|    Singh|National Institut...|Mechanical Engine...|                 8.0|        2025.0|Thermodynamics, C...|                  No|          Submitted| Mechanical Engineer|\n",
            "|       15|    Tanya|    Mehta|Indian Institute ...|        Architecture|                 8.2|        2024.0|AutoCAD, Revit, S...|                 Yes|          In Review|           Architect|\n",
            "|       16|    Varun|    Joshi|Indian Institute ...|Metallurgical Eng...|                 7.6|        2025.0|Material Science,...|                  No|          Submitted|Metallurgical Eng...|\n",
            "|       17|    Priya|    Yadav|National Institut...|   Civil Engineering|                 8.5|        2024.0|Project Managemen...|                 Yes|          In Review|     Project Manager|\n",
            "|       18|    Ankit|      Das|Indian Institute ...|    Computer Science|                 9.1|        2024.0|DevOps, AWS, Dock...|                 Yes|Interview Scheduled|     DevOps Engineer|\n",
            "|       19|    Swati|    Mehra|Indian Institute ...|Information Techn...|                 8.8|        2025.0|UI/UX Design, Fig...|                 Yes|          In Review|      UX/UI Designer|\n",
            "|       20|   Gaurav|Choudhary|Indian Institute ...|Electrical Engine...|                 8.3|        2024.0|Renewable Energy,...|                 Yes|          Submitted|      Power Engineer|\n",
            "+---------+---------+---------+--------------------+--------------------+--------------------+--------------+--------------------+--------------------+-------------------+--------------------+\n",
            "only showing top 20 rows\n",
            "\n"
          ]
        }
      ]
    },
    {
      "cell_type": "code",
      "source": [
        "ie_data = data.fillna({\"InternshipExperience\" : 0})\n",
        "print(\"Filling null values of InternshipExperience\")\n",
        "ie_data.show()"
      ],
      "metadata": {
        "colab": {
          "base_uri": "https://localhost:8080/"
        },
        "id": "9cDhy4TYs9ZC",
        "outputId": "b65be5de-cc69-4364-8c78-51c14bb2b232"
      },
      "execution_count": 7,
      "outputs": [
        {
          "output_type": "stream",
          "name": "stdout",
          "text": [
            "Filling null values of InternshipExperience\n",
            "+---------+---------+---------+--------------------+--------------------+--------------------+--------------+--------------------+--------------------+-------------------+--------------------+\n",
            "|StudentID|FirstName| LastName|           Institute|               Major|                 GPA|GraduationYear|              Skills|InternshipExperience|  ApplicationStatus|       PreferredRole|\n",
            "+---------+---------+---------+--------------------+--------------------+--------------------+--------------+--------------------+--------------------+-------------------+--------------------+\n",
            "|        1|    Aarav|   Sharma|Indian Institute ...|    Computer Science|                 8.9|        2024.0|Python, Java, Dat...|                 Yes|          Submitted|   Software Engineer|\n",
            "|        2|     Riya|    Singh|National Institut...|Electronics and C...|                 8.5|        2025.0|C++, Embedded Sys...|                 Yes|          In Review|Embedded Systems ...|\n",
            "|        3|   Aditya|   Mishra|Indian Institute ...|Mechanical Engine...|                 7.8|        2024.0|CAD, SolidWorks, ...|                  No|          Submitted| Mechanical Engineer|\n",
            "|        4|   Ishita|     Jain|Indian Institute ...|    Computer Science|                 9.2|        2024.0|Machine Learning,...|                 Yes|          In Review|      Data Scientist|\n",
            "|        5|    Pooja|    Patel|Vellore Institute...|Electronics and C...|                 8.1|        2025.0|Verilog, VHDL, Di...|                  No|          Submitted|VLSI Design Engineer|\n",
            "|        6|    Rahul|    Kumar|Indian Institute ...|   Civil Engineering|                 8.3|        2024.0|AutoCAD, Structur...|                 Yes|Interview Scheduled|      Civil Engineer|\n",
            "|        7|    Sneha|    Gupta|National Institut...|    Computer Science|                 9.0|        2024.0|Web Development, ...|                 Yes|          In Review|Full Stack Developer|\n",
            "|        8|    Kunal|    Verma|Indian Institute ...|Aerospace Enginee...|                 7.9|        2025.0|Aerodynamics, Pro...|                  No|          Submitted|  Aerospace Engineer|\n",
            "|        9|   Anjali|    Yadav|Delhi Technologic...|Information Techn...|                 8.6|        2024.0|Cybersecurity, Ne...|                 Yes|           Rejected|Cybersecurity Ana...|\n",
            "|       10|Siddharth|   Sharma|National Institut...|    Computer Science|                 8.7|        2024.0|Android Developme...|                 Yes|Interview Scheduled|Mobile App Developer|\n",
            "|       11|    Nisha|    Reddy|National Institut...|           Hyderabad|Chemical Engineering|           7.7|                2025|Chemical Process ...|                 No|           Submitted|\n",
            "|       12|    Akash|   Mishra|Indian Institute ...|Electrical Engine...|                 8.4|        2024.0|Power Systems, Co...|                 Yes|          In Review| Electrical Engineer|\n",
            "|       13|   Devika|   Pillai|Indian Institute ...|           Bangalore|        Data Science|           9.5|                2024|R, Python, Statis...|                Yes| Interview Scheduled|\n",
            "|       14|    Arjun|    Singh|National Institut...|Mechanical Engine...|                 8.0|        2025.0|Thermodynamics, C...|                  No|          Submitted| Mechanical Engineer|\n",
            "|       15|    Tanya|    Mehta|Indian Institute ...|        Architecture|                 8.2|        2024.0|AutoCAD, Revit, S...|                 Yes|          In Review|           Architect|\n",
            "|       16|    Varun|    Joshi|Indian Institute ...|Metallurgical Eng...|                 7.6|        2025.0|Material Science,...|                  No|          Submitted|Metallurgical Eng...|\n",
            "|       17|    Priya|    Yadav|National Institut...|   Civil Engineering|                 8.5|        2024.0|Project Managemen...|                 Yes|          In Review|     Project Manager|\n",
            "|       18|    Ankit|      Das|Indian Institute ...|    Computer Science|                 9.1|        2024.0|DevOps, AWS, Dock...|                 Yes|Interview Scheduled|     DevOps Engineer|\n",
            "|       19|    Swati|    Mehra|Indian Institute ...|Information Techn...|                 8.8|        2025.0|UI/UX Design, Fig...|                 Yes|          In Review|      UX/UI Designer|\n",
            "|       20|   Gaurav|Choudhary|Indian Institute ...|Electrical Engine...|                 8.3|        2024.0|Renewable Energy,...|                 Yes|          Submitted|      Power Engineer|\n",
            "+---------+---------+---------+--------------------+--------------------+--------------------+--------------+--------------------+--------------------+-------------------+--------------------+\n",
            "only showing top 20 rows\n",
            "\n"
          ]
        }
      ]
    },
    {
      "cell_type": "code",
      "metadata": {
        "colab": {
          "base_uri": "https://localhost:8080/"
        },
        "id": "e380363b",
        "outputId": "cc9001da-3aea-43e8-bbd5-d7a33e8b6649"
      },
      "source": [
        "from pyspark.sql.functions import col, isnull\n",
        "from pyspark.sql.types import *\n",
        "\n",
        "# Define the expected schema\n",
        "expected_schema = StructType([\n",
        "    StructField(\"StudentID\", IntegerType(), True),\n",
        "    StructField(\"FirstName\", StringType(), True),\n",
        "    StructField(\"LastName\", StringType(), True),\n",
        "    StructField(\"Institute\", StringType(), True),\n",
        "    StructField(\"Major\", StringType(), True),\n",
        "    StructField(\"GPA\", DoubleType(), True),\n",
        "    StructField(\"GraduationYear\", IntegerType(), True),\n",
        "    StructField(\"Skills\", StringType(), True),\n",
        "    StructField(\"InternshipExperience\", StringType(), True),\n",
        "    StructField(\"ApplicationStatus\", StringType(), True),\n",
        "    StructField(\"PreferredRole\", StringType(), True)\n",
        "])\n",
        "\n",
        "\n",
        "cleaned_data = data.withColumn(\"GPA_casted\", col(\"GPA\").cast(DoubleType()))\\\n",
        "                   .withColumn(\"GraduationYear_casted\", col(\"GraduationYear\").cast(IntegerType()))\n",
        "\n",
        "filtered_data = cleaned_data.filter(col(\"GPA_casted\").isNotNull() & col(\"GraduationYear_casted\").isNotNull())\n",
        "\n",
        "cleaned_data = filtered_data.select([col(field.name) for field in expected_schema.fields])\n",
        "\n",
        "\n",
        "cleaned_data.show()"
      ],
      "execution_count": 8,
      "outputs": [
        {
          "output_type": "stream",
          "name": "stdout",
          "text": [
            "+---------+---------+---------+--------------------+--------------------+---+--------------+--------------------+--------------------+-------------------+--------------------+\n",
            "|StudentID|FirstName| LastName|           Institute|               Major|GPA|GraduationYear|              Skills|InternshipExperience|  ApplicationStatus|       PreferredRole|\n",
            "+---------+---------+---------+--------------------+--------------------+---+--------------+--------------------+--------------------+-------------------+--------------------+\n",
            "|        1|    Aarav|   Sharma|Indian Institute ...|    Computer Science|8.9|        2024.0|Python, Java, Dat...|                 Yes|          Submitted|   Software Engineer|\n",
            "|        2|     Riya|    Singh|National Institut...|Electronics and C...|8.5|        2025.0|C++, Embedded Sys...|                 Yes|          In Review|Embedded Systems ...|\n",
            "|        3|   Aditya|   Mishra|Indian Institute ...|Mechanical Engine...|7.8|        2024.0|CAD, SolidWorks, ...|                  No|          Submitted| Mechanical Engineer|\n",
            "|        4|   Ishita|     Jain|Indian Institute ...|    Computer Science|9.2|        2024.0|Machine Learning,...|                 Yes|          In Review|      Data Scientist|\n",
            "|        5|    Pooja|    Patel|Vellore Institute...|Electronics and C...|8.1|        2025.0|Verilog, VHDL, Di...|                  No|          Submitted|VLSI Design Engineer|\n",
            "|        6|    Rahul|    Kumar|Indian Institute ...|   Civil Engineering|8.3|        2024.0|AutoCAD, Structur...|                 Yes|Interview Scheduled|      Civil Engineer|\n",
            "|        7|    Sneha|    Gupta|National Institut...|    Computer Science|9.0|        2024.0|Web Development, ...|                 Yes|          In Review|Full Stack Developer|\n",
            "|        8|    Kunal|    Verma|Indian Institute ...|Aerospace Enginee...|7.9|        2025.0|Aerodynamics, Pro...|                  No|          Submitted|  Aerospace Engineer|\n",
            "|        9|   Anjali|    Yadav|Delhi Technologic...|Information Techn...|8.6|        2024.0|Cybersecurity, Ne...|                 Yes|           Rejected|Cybersecurity Ana...|\n",
            "|       10|Siddharth|   Sharma|National Institut...|    Computer Science|8.7|        2024.0|Android Developme...|                 Yes|Interview Scheduled|Mobile App Developer|\n",
            "|       12|    Akash|   Mishra|Indian Institute ...|Electrical Engine...|8.4|        2024.0|Power Systems, Co...|                 Yes|          In Review| Electrical Engineer|\n",
            "|       14|    Arjun|    Singh|National Institut...|Mechanical Engine...|8.0|        2025.0|Thermodynamics, C...|                  No|          Submitted| Mechanical Engineer|\n",
            "|       15|    Tanya|    Mehta|Indian Institute ...|        Architecture|8.2|        2024.0|AutoCAD, Revit, S...|                 Yes|          In Review|           Architect|\n",
            "|       16|    Varun|    Joshi|Indian Institute ...|Metallurgical Eng...|7.6|        2025.0|Material Science,...|                  No|          Submitted|Metallurgical Eng...|\n",
            "|       17|    Priya|    Yadav|National Institut...|   Civil Engineering|8.5|        2024.0|Project Managemen...|                 Yes|          In Review|     Project Manager|\n",
            "|       18|    Ankit|      Das|Indian Institute ...|    Computer Science|9.1|        2024.0|DevOps, AWS, Dock...|                 Yes|Interview Scheduled|     DevOps Engineer|\n",
            "|       19|    Swati|    Mehra|Indian Institute ...|Information Techn...|8.8|        2025.0|UI/UX Design, Fig...|                 Yes|          In Review|      UX/UI Designer|\n",
            "|       20|   Gaurav|Choudhary|Indian Institute ...|Electrical Engine...|8.3|        2024.0|Renewable Energy,...|                 Yes|          Submitted|      Power Engineer|\n",
            "|       21|   Shreya|    Gupta|National Institut...|Electronics and C...|8.0|        2025.0|Signal Processing...|                  No|          Submitted|Communications En...|\n",
            "|       22|   Kartik|    Singh|Indian Institute ...|   Civil Engineering|7.9|        2024.0|Structural Design...|                 Yes|Interview Scheduled| Structural Engineer|\n",
            "+---------+---------+---------+--------------------+--------------------+---+--------------+--------------------+--------------------+-------------------+--------------------+\n",
            "only showing top 20 rows\n",
            "\n"
          ]
        }
      ]
    },
    {
      "cell_type": "code",
      "source": [
        "iit_data = cleaned_data.filter(cleaned_data.Institute.startswith(\"Indian\"))\n",
        "iit_data.show()"
      ],
      "metadata": {
        "colab": {
          "base_uri": "https://localhost:8080/"
        },
        "id": "r09bDr9Q54fW",
        "outputId": "14873dfd-5cbb-49ec-a746-4b92ab871546"
      },
      "execution_count": 9,
      "outputs": [
        {
          "output_type": "stream",
          "name": "stdout",
          "text": [
            "+---------+---------+---------+--------------------+--------------------+---+--------------+--------------------+--------------------+-------------------+--------------------+\n",
            "|StudentID|FirstName| LastName|           Institute|               Major|GPA|GraduationYear|              Skills|InternshipExperience|  ApplicationStatus|       PreferredRole|\n",
            "+---------+---------+---------+--------------------+--------------------+---+--------------+--------------------+--------------------+-------------------+--------------------+\n",
            "|        1|    Aarav|   Sharma|Indian Institute ...|    Computer Science|8.9|        2024.0|Python, Java, Dat...|                 Yes|          Submitted|   Software Engineer|\n",
            "|        3|   Aditya|   Mishra|Indian Institute ...|Mechanical Engine...|7.8|        2024.0|CAD, SolidWorks, ...|                  No|          Submitted| Mechanical Engineer|\n",
            "|        4|   Ishita|     Jain|Indian Institute ...|    Computer Science|9.2|        2024.0|Machine Learning,...|                 Yes|          In Review|      Data Scientist|\n",
            "|        6|    Rahul|    Kumar|Indian Institute ...|   Civil Engineering|8.3|        2024.0|AutoCAD, Structur...|                 Yes|Interview Scheduled|      Civil Engineer|\n",
            "|        8|    Kunal|    Verma|Indian Institute ...|Aerospace Enginee...|7.9|        2025.0|Aerodynamics, Pro...|                  No|          Submitted|  Aerospace Engineer|\n",
            "|       12|    Akash|   Mishra|Indian Institute ...|Electrical Engine...|8.4|        2024.0|Power Systems, Co...|                 Yes|          In Review| Electrical Engineer|\n",
            "|       15|    Tanya|    Mehta|Indian Institute ...|        Architecture|8.2|        2024.0|AutoCAD, Revit, S...|                 Yes|          In Review|           Architect|\n",
            "|       16|    Varun|    Joshi|Indian Institute ...|Metallurgical Eng...|7.6|        2025.0|Material Science,...|                  No|          Submitted|Metallurgical Eng...|\n",
            "|       18|    Ankit|      Das|Indian Institute ...|    Computer Science|9.1|        2024.0|DevOps, AWS, Dock...|                 Yes|Interview Scheduled|     DevOps Engineer|\n",
            "|       19|    Swati|    Mehra|Indian Institute ...|Information Techn...|8.8|        2025.0|UI/UX Design, Fig...|                 Yes|          In Review|      UX/UI Designer|\n",
            "|       20|   Gaurav|Choudhary|Indian Institute ...|Electrical Engine...|8.3|        2024.0|Renewable Energy,...|                 Yes|          Submitted|      Power Engineer|\n",
            "|       22|   Kartik|    Singh|Indian Institute ...|   Civil Engineering|7.9|        2024.0|Structural Design...|                 Yes|Interview Scheduled| Structural Engineer|\n",
            "|       24|     Neha|     Jain|Indian Institute ...|    Computer Science|8.7|        2024.0|Cloud Computing, ...|                 Yes|          Submitted|      Cloud Engineer|\n",
            "|       26|     Diya|   Sharma|Indian Institute ...|    Computer Science|9.0|        2024.0|Data Analytics, T...|                 Yes|Interview Scheduled|        Data Analyst|\n",
            "|       27|    Vivek|    Kumar|Indian Institute ...|Electrical Engine...|8.2|        2025.0|VLSI Design, Digi...|                 Yes|          In Review|       VLSI Engineer|\n",
            "|       28|     Sana|     Khan|Indian Institute ...|    Computer Science|9.3|        2024.0|Artificial Intell...|                 Yes|Interview Scheduled|      AI/ML Engineer|\n",
            "|       29|    Arnav|   Mittal|Indian Institute ...|Electrical Engine...|8.5|        2024.0|Circuit Design, E...|                 Yes|          In Review|Embedded Systems ...|\n",
            "|       31|    Parth|    Joshi|Indian Institute ...|   Civil Engineering|7.8|        2024.0|Transportation En...|                 Yes|          Submitted|Transportation En...|\n",
            "|       32|   Mitali|    Gupta|Indian Institute ...|    Computer Science|9.4|        2024.0|Cybersecurity, Cr...|                 Yes|Interview Scheduled|Cybersecurity Ana...|\n",
            "|       35|    Palak|     Jain|Indian Institute ...|Chemical Engineering|7.7|        2024.0|Environmental Eng...|                 Yes|          Submitted|Environmental Eng...|\n",
            "+---------+---------+---------+--------------------+--------------------+---+--------------+--------------------+--------------------+-------------------+--------------------+\n",
            "only showing top 20 rows\n",
            "\n"
          ]
        }
      ]
    },
    {
      "cell_type": "code",
      "source": [
        "gpa_data = iit_data.filter(iit_data.GPA >= 8.5)\n",
        "gpa_data.show()\n",
        "major_counts = gpa_data.groupBy(\"Major\").count().withColumnRenamed(\"count\", \"Major_Count\")\n",
        "major_counts.show()"
      ],
      "metadata": {
        "colab": {
          "base_uri": "https://localhost:8080/"
        },
        "id": "xiZaO_J76LUR",
        "outputId": "7e51b728-ae7a-4f3c-db57-096b0fbbd916"
      },
      "execution_count": 10,
      "outputs": [
        {
          "output_type": "stream",
          "name": "stdout",
          "text": [
            "+---------+---------+---------+--------------------+--------------------+---+--------------+--------------------+--------------------+-------------------+--------------------+\n",
            "|StudentID|FirstName| LastName|           Institute|               Major|GPA|GraduationYear|              Skills|InternshipExperience|  ApplicationStatus|       PreferredRole|\n",
            "+---------+---------+---------+--------------------+--------------------+---+--------------+--------------------+--------------------+-------------------+--------------------+\n",
            "|        1|    Aarav|   Sharma|Indian Institute ...|    Computer Science|8.9|        2024.0|Python, Java, Dat...|                 Yes|          Submitted|   Software Engineer|\n",
            "|        4|   Ishita|     Jain|Indian Institute ...|    Computer Science|9.2|        2024.0|Machine Learning,...|                 Yes|          In Review|      Data Scientist|\n",
            "|       18|    Ankit|      Das|Indian Institute ...|    Computer Science|9.1|        2024.0|DevOps, AWS, Dock...|                 Yes|Interview Scheduled|     DevOps Engineer|\n",
            "|       19|    Swati|    Mehra|Indian Institute ...|Information Techn...|8.8|        2025.0|UI/UX Design, Fig...|                 Yes|          In Review|      UX/UI Designer|\n",
            "|       24|     Neha|     Jain|Indian Institute ...|    Computer Science|8.7|        2024.0|Cloud Computing, ...|                 Yes|          Submitted|      Cloud Engineer|\n",
            "|       26|     Diya|   Sharma|Indian Institute ...|    Computer Science|9.0|        2024.0|Data Analytics, T...|                 Yes|Interview Scheduled|        Data Analyst|\n",
            "|       28|     Sana|     Khan|Indian Institute ...|    Computer Science|9.3|        2024.0|Artificial Intell...|                 Yes|Interview Scheduled|      AI/ML Engineer|\n",
            "|       29|    Arnav|   Mittal|Indian Institute ...|Electrical Engine...|8.5|        2024.0|Circuit Design, E...|                 Yes|          In Review|Embedded Systems ...|\n",
            "|       32|   Mitali|    Gupta|Indian Institute ...|    Computer Science|9.4|        2024.0|Cybersecurity, Cr...|                 Yes|Interview Scheduled|Cybersecurity Ana...|\n",
            "|       37| Siddhant|    Verma|Indian Institute ...|    Computer Science|9.1|        2024.0|Data Science, R, ...|                 Yes|Interview Scheduled|      Data Scientist|\n",
            "|       39|     Yash|   Mishra|Indian Institute ...|Electrical Engine...|8.6|        2025.0|Power Electronics...|                 Yes|          Submitted| Electrical Engineer|\n",
            "|       41|  Abhinav|Choudhary|Indian Institute ...|    Computer Science|8.8|        2025.0|Cloud Computing, ...|                 Yes|          In Review|      Cloud Engineer|\n",
            "|       45|    Sagar|    Singh|Indian Institute ...|   Civil Engineering|8.7|        2024.0|Structural Analys...|                 Yes|Interview Scheduled|      Civil Engineer|\n",
            "|       47|   Vikram|    Kumar|Indian Institute ...|    Computer Science|9.0|        2024.0|Data Analytics, S...|                 Yes|Interview Scheduled|        Data Analyst|\n",
            "|       49|      Raj|    Verma|Indian Institute ...|Mechanical Engine...|8.9|        2024.0|Robotics, Control...|                 Yes|          In Review|   Robotics Engineer|\n",
            "|       51|    Karan|   Sharma|Indian Institute ...|    Computer Science|8.5|        2024.0|Web Development, ...|                 Yes|          Submitted|Full Stack Developer|\n",
            "|       53|    Ayush|    Gupta|Indian Institute ...|Electrical Engine...|8.8|        2024.0|Power Systems, Re...|                 Yes|Interview Scheduled| Electrical Engineer|\n",
            "|       58|    Rahul|    Yadav|Indian Institute ...|Electrical Engine...|8.6|        2024.0|Control Systems, ...|                 Yes|          In Review|Control Systems E...|\n",
            "|       64|    Vivek|    Patel|Indian Institute ...|        Architecture|8.5|        2024.0|Urban Planning, A...|                 Yes|          In Review|           Architect|\n",
            "|       67|   Anjali|    Gupta|Indian Institute ...|    Computer Science|9.1|        2024.0|Cloud Computing, ...|                 Yes|          In Review|      Cloud Engineer|\n",
            "+---------+---------+---------+--------------------+--------------------+---+--------------+--------------------+--------------------+-------------------+--------------------+\n",
            "only showing top 20 rows\n",
            "\n",
            "+--------------------+-----------+\n",
            "|               Major|Major_Count|\n",
            "+--------------------+-----------+\n",
            "|Information Techn...|         10|\n",
            "|Electrical Engine...|         40|\n",
            "|        Architecture|          9|\n",
            "|Mechanical Engine...|         10|\n",
            "|    Computer Science|         93|\n",
            "|   Civil Engineering|         10|\n",
            "+--------------------+-----------+\n",
            "\n"
          ]
        }
      ]
    },
    {
      "cell_type": "code",
      "source": [
        "import pandas as pd\n",
        "import matplotlib.pyplot as plt\n",
        "import seaborn as sns\n",
        "import numpy as np\n",
        "\n",
        "iit_data_pd = major_counts.select(\"Major\", \"Major_Count\").toPandas()\n",
        "plt.figure(figsize=(12, 6))\n",
        "sns.barplot(data=iit_data_pd, x='Major', y='Major_Count')\n",
        "plt.title('Major vs count')\n",
        "plt.xlabel('Major')\n",
        "plt.ylabel('Count')\n",
        "plt.xticks(rotation=45, ha='right')\n",
        "plt.tight_layout()\n",
        "plt.show()"
      ],
      "metadata": {
        "colab": {
          "base_uri": "https://localhost:8080/",
          "height": 330
        },
        "id": "dI8LHINgb45_",
        "outputId": "52a016e3-427d-4d00-a026-0116069ac5bc"
      },
      "execution_count": 11,
      "outputs": [
        {
          "output_type": "display_data",
          "data": {
            "text/plain": [
              "<Figure size 1200x600 with 1 Axes>"
            ],
            "image/png": "[encoded data removed]"
          },
          "metadata": {}
        }
      ]
    },
    {
      "cell_type": "markdown",
      "metadata": {
        "id": "0394ccf3"
      },
      "source": [
        "# Task\n",
        "Apply logistic regression to predict job eligibility based on GPA, Institute, and InternshipExperience."
      ]
    },
    {
      "cell_type": "markdown",
      "metadata": {
        "id": "10046e3a"
      },
      "source": [
        "## Prepare the target variable\n",
        "\n",
        "### Subtask:\n",
        "Create a binary target variable based on the 'ApplicationStatus' column, where 'eligible' is 1 and 'not eligible' is 0. You'll need to define which statuses are considered 'eligible'.\n"
      ]
    },
    {
      "cell_type": "markdown",
      "metadata": {
        "id": "6e91d42a"
      },
      "source": [
        "**Reasoning**:\n",
        "Create a binary target variable 'eligible' based on the 'ApplicationStatus' column and display the updated dataframe schema and the first few rows.\n",
        "\n"
      ]
    },
    {
      "cell_type": "code",
      "metadata": {
        "colab": {
          "base_uri": "https://localhost:8080/"
        },
        "id": "82746f27",
        "outputId": "1e547256-2290-4290-8f2e-99e68509c8bc"
      },
      "source": [
        "eligible_statuses = [\"Submitted\", \"In Review\", \"Interview Scheduled\", \"Accepted\"]\n",
        "cleaned_data = cleaned_data.withColumn(\n",
        "    \"eligible\",\n",
        "    when(col(\"ApplicationStatus\").isin(eligible_statuses), 1).otherwise(0)\n",
        ")\n",
        "cleaned_data.printSchema()\n",
        "cleaned_data.show()"
      ],
      "execution_count": 12,
      "outputs": [
        {
          "output_type": "stream",
          "name": "stdout",
          "text": [
            "root\n",
            " |-- StudentID: integer (nullable = true)\n",
            " |-- FirstName: string (nullable = true)\n",
            " |-- LastName: string (nullable = true)\n",
            " |-- Institute: string (nullable = true)\n",
            " |-- Major: string (nullable = true)\n",
            " |-- GPA: string (nullable = false)\n",
            " |-- GraduationYear: double (nullable = true)\n",
            " |-- Skills: string (nullable = true)\n",
            " |-- InternshipExperience: string (nullable = true)\n",
            " |-- ApplicationStatus: string (nullable = true)\n",
            " |-- PreferredRole: string (nullable = true)\n",
            " |-- eligible: integer (nullable = false)\n",
            "\n",
            "+---------+---------+---------+--------------------+--------------------+---+--------------+--------------------+--------------------+-------------------+--------------------+--------+\n",
            "|StudentID|FirstName| LastName|           Institute|               Major|GPA|GraduationYear|              Skills|InternshipExperience|  ApplicationStatus|       PreferredRole|eligible|\n",
            "+---------+---------+---------+--------------------+--------------------+---+--------------+--------------------+--------------------+-------------------+--------------------+--------+\n",
            "|        1|    Aarav|   Sharma|Indian Institute ...|    Computer Science|8.9|        2024.0|Python, Java, Dat...|                 Yes|          Submitted|   Software Engineer|       1|\n",
            "|        2|     Riya|    Singh|National Institut...|Electronics and C...|8.5|        2025.0|C++, Embedded Sys...|                 Yes|          In Review|Embedded Systems ...|       1|\n",
            "|        3|   Aditya|   Mishra|Indian Institute ...|Mechanical Engine...|7.8|        2024.0|CAD, SolidWorks, ...|                  No|          Submitted| Mechanical Engineer|       1|\n",
            "|        4|   Ishita|     Jain|Indian Institute ...|    Computer Science|9.2|        2024.0|Machine Learning,...|                 Yes|          In Review|      Data Scientist|       1|\n",
            "|        5|    Pooja|    Patel|Vellore Institute...|Electronics and C...|8.1|        2025.0|Verilog, VHDL, Di...|                  No|          Submitted|VLSI Design Engineer|       1|\n",
            "|        6|    Rahul|    Kumar|Indian Institute ...|   Civil Engineering|8.3|        2024.0|AutoCAD, Structur...|                 Yes|Interview Scheduled|      Civil Engineer|       1|\n",
            "|        7|    Sneha|    Gupta|National Institut...|    Computer Science|9.0|        2024.0|Web Development, ...|                 Yes|          In Review|Full Stack Developer|       1|\n",
            "|        8|    Kunal|    Verma|Indian Institute ...|Aerospace Enginee...|7.9|        2025.0|Aerodynamics, Pro...|                  No|          Submitted|  Aerospace Engineer|       1|\n",
            "|        9|   Anjali|    Yadav|Delhi Technologic...|Information Techn...|8.6|        2024.0|Cybersecurity, Ne...|                 Yes|           Rejected|Cybersecurity Ana...|       0|\n",
            "|       10|Siddharth|   Sharma|National Institut...|    Computer Science|8.7|        2024.0|Android Developme...|                 Yes|Interview Scheduled|Mobile App Developer|       1|\n",
            "|       12|    Akash|   Mishra|Indian Institute ...|Electrical Engine...|8.4|        2024.0|Power Systems, Co...|                 Yes|          In Review| Electrical Engineer|       1|\n",
            "|       14|    Arjun|    Singh|National Institut...|Mechanical Engine...|8.0|        2025.0|Thermodynamics, C...|                  No|          Submitted| Mechanical Engineer|       1|\n",
            "|       15|    Tanya|    Mehta|Indian Institute ...|        Architecture|8.2|        2024.0|AutoCAD, Revit, S...|                 Yes|          In Review|           Architect|       1|\n",
            "|       16|    Varun|    Joshi|Indian Institute ...|Metallurgical Eng...|7.6|        2025.0|Material Science,...|                  No|          Submitted|Metallurgical Eng...|       1|\n",
            "|       17|    Priya|    Yadav|National Institut...|   Civil Engineering|8.5|        2024.0|Project Managemen...|                 Yes|          In Review|     Project Manager|       1|\n",
            "|       18|    Ankit|      Das|Indian Institute ...|    Computer Science|9.1|        2024.0|DevOps, AWS, Dock...|                 Yes|Interview Scheduled|     DevOps Engineer|       1|\n",
            "|       19|    Swati|    Mehra|Indian Institute ...|Information Techn...|8.8|        2025.0|UI/UX Design, Fig...|                 Yes|          In Review|      UX/UI Designer|       1|\n",
            "|       20|   Gaurav|Choudhary|Indian Institute ...|Electrical Engine...|8.3|        2024.0|Renewable Energy,...|                 Yes|          Submitted|      Power Engineer|       1|\n",
            "|       21|   Shreya|    Gupta|National Institut...|Electronics and C...|8.0|        2025.0|Signal Processing...|                  No|          Submitted|Communications En...|       1|\n",
            "|       22|   Kartik|    Singh|Indian Institute ...|   Civil Engineering|7.9|        2024.0|Structural Design...|                 Yes|Interview Scheduled| Structural Engineer|       1|\n",
            "+---------+---------+---------+--------------------+--------------------+---+--------------+--------------------+--------------------+-------------------+--------------------+--------+\n",
            "only showing top 20 rows\n",
            "\n"
          ]
        }
      ]
    },
    {
      "cell_type": "markdown",
      "metadata": {
        "id": "f370da1b"
      },
      "source": [
        "**Reasoning**:\n",
        "The error indicates that `cleaned_data` DataFrame is not defined in the current scope. This is because the previous code cells were not executed in the current runtime. I need to re-execute the code to load and clean the data into the `cleaned_data` DataFrame before proceeding with creating the target variable.\n",
        "\n"
      ]
    },
    {
      "cell_type": "code",
      "metadata": {
        "colab": {
          "base_uri": "https://localhost:8080/"
        },
        "id": "LuKD-Y3J5KKb",
        "outputId": "6ebc8539-df63-4a01-b2c8-cfdf80f53f76"
      },
      "source": [
        "from pyspark.sql.functions import col, isnull, when\n",
        "from pyspark.sql.types import *\n",
        "\n",
        "data = spark.read.csv(\"/content/job.csv\", header=True, inferSchema=True)\n",
        "\n",
        "mode_data = data.select(mode(\"GPA\")).collect()[0][0]\n",
        "data = data.fillna({\"GPA\" : mode_data})\n",
        "\n",
        "ie_data = data.fillna({\"InternshipExperience\" : 0})\n",
        "data = ie_data\n",
        "\n",
        "expected_schema = StructType([\n",
        "    StructField(\"StudentID\", IntegerType(), True),\n",
        "    StructField(\"FirstName\", StringType(), True),\n",
        "    StructField(\"LastName\", StringType(), True),\n",
        "    StructField(\"Institute\", StringType(), True),\n",
        "    StructField(\"Major\", StringType(), True),\n",
        "    StructField(\"GPA\", DoubleType(), True),\n",
        "    StructField(\"GraduationYear\", IntegerType(), True),\n",
        "    StructField(\"Skills\", StringType(), True),\n",
        "    StructField(\"InternshipExperience\", StringType(), True),\n",
        "    StructField(\"ApplicationStatus\", StringType(), True),\n",
        "    StructField(\"PreferredRole\", StringType(), True)\n",
        "])\n",
        "\n",
        "cleaned_data = data.withColumn(\"GPA_casted\", col(\"GPA\").cast(DoubleType()))\\\n",
        "                   .withColumn(\"GraduationYear_casted\", col(\"GraduationYear\").cast(IntegerType()))\n",
        "\n",
        "filtered_data = cleaned_data.filter(col(\"GPA_casted\").isNotNull() & col(\"GraduationYear_casted\").isNotNull())\n",
        "\n",
        "cleaned_data = filtered_data.select([col(field.name) for field in expected_schema.fields])\n",
        "\n",
        "eligible_statuses = [\"Submitted\", \"In Review\", \"Interview Scheduled\", \"Accepted\"]\n",
        "cleaned_data = cleaned_data.withColumn(\n",
        "    \"eligible\",\n",
        "    when(col(\"ApplicationStatus\").isin(eligible_statuses), 1).otherwise(0)\n",
        ")\n",
        "\n",
        "cleaned_data.printSchema()\n",
        "cleaned_data.show()"
      ],
      "execution_count": 14,
      "outputs": [
        {
          "output_type": "stream",
          "name": "stdout",
          "text": [
            "root\n",
            " |-- StudentID: integer (nullable = true)\n",
            " |-- FirstName: string (nullable = true)\n",
            " |-- LastName: string (nullable = true)\n",
            " |-- Institute: string (nullable = true)\n",
            " |-- Major: string (nullable = true)\n",
            " |-- GPA: string (nullable = false)\n",
            " |-- GraduationYear: double (nullable = true)\n",
            " |-- Skills: string (nullable = true)\n",
            " |-- InternshipExperience: string (nullable = false)\n",
            " |-- ApplicationStatus: string (nullable = true)\n",
            " |-- PreferredRole: string (nullable = true)\n",
            " |-- eligible: integer (nullable = false)\n",
            "\n",
            "+---------+---------+---------+--------------------+--------------------+---+--------------+--------------------+--------------------+-------------------+--------------------+--------+\n",
            "|StudentID|FirstName| LastName|           Institute|               Major|GPA|GraduationYear|              Skills|InternshipExperience|  ApplicationStatus|       PreferredRole|eligible|\n",
            "+---------+---------+---------+--------------------+--------------------+---+--------------+--------------------+--------------------+-------------------+--------------------+--------+\n",
            "|        1|    Aarav|   Sharma|Indian Institute ...|    Computer Science|8.9|        2024.0|Python, Java, Dat...|                 Yes|          Submitted|   Software Engineer|       1|\n",
            "|        2|     Riya|    Singh|National Institut...|Electronics and C...|8.5|        2025.0|C++, Embedded Sys...|                 Yes|          In Review|Embedded Systems ...|       1|\n",
            "|        3|   Aditya|   Mishra|Indian Institute ...|Mechanical Engine...|7.8|        2024.0|CAD, SolidWorks, ...|                  No|          Submitted| Mechanical Engineer|       1|\n",
            "|        4|   Ishita|     Jain|Indian Institute ...|    Computer Science|9.2|        2024.0|Machine Learning,...|                 Yes|          In Review|      Data Scientist|       1|\n",
            "|        5|    Pooja|    Patel|Vellore Institute...|Electronics and C...|8.1|        2025.0|Verilog, VHDL, Di...|                  No|          Submitted|VLSI Design Engineer|       1|\n",
            "|        6|    Rahul|    Kumar|Indian Institute ...|   Civil Engineering|8.3|        2024.0|AutoCAD, Structur...|                 Yes|Interview Scheduled|      Civil Engineer|       1|\n",
            "|        7|    Sneha|    Gupta|National Institut...|    Computer Science|9.0|        2024.0|Web Development, ...|                 Yes|          In Review|Full Stack Developer|       1|\n",
            "|        8|    Kunal|    Verma|Indian Institute ...|Aerospace Enginee...|7.9|        2025.0|Aerodynamics, Pro...|                  No|          Submitted|  Aerospace Engineer|       1|\n",
            "|        9|   Anjali|    Yadav|Delhi Technologic...|Information Techn...|8.6|        2024.0|Cybersecurity, Ne...|                 Yes|           Rejected|Cybersecurity Ana...|       0|\n",
            "|       10|Siddharth|   Sharma|National Institut...|    Computer Science|8.7|        2024.0|Android Developme...|                 Yes|Interview Scheduled|Mobile App Developer|       1|\n",
            "|       12|    Akash|   Mishra|Indian Institute ...|Electrical Engine...|8.4|        2024.0|Power Systems, Co...|                 Yes|          In Review| Electrical Engineer|       1|\n",
            "|       14|    Arjun|    Singh|National Institut...|Mechanical Engine...|8.0|        2025.0|Thermodynamics, C...|                  No|          Submitted| Mechanical Engineer|       1|\n",
            "|       15|    Tanya|    Mehta|Indian Institute ...|        Architecture|8.2|        2024.0|AutoCAD, Revit, S...|                 Yes|          In Review|           Architect|       1|\n",
            "|       16|    Varun|    Joshi|Indian Institute ...|Metallurgical Eng...|7.6|        2025.0|Material Science,...|                  No|          Submitted|Metallurgical Eng...|       1|\n",
            "|       17|    Priya|    Yadav|National Institut...|   Civil Engineering|8.5|        2024.0|Project Managemen...|                 Yes|          In Review|     Project Manager|       1|\n",
            "|       18|    Ankit|      Das|Indian Institute ...|    Computer Science|9.1|        2024.0|DevOps, AWS, Dock...|                 Yes|Interview Scheduled|     DevOps Engineer|       1|\n",
            "|       19|    Swati|    Mehra|Indian Institute ...|Information Techn...|8.8|        2025.0|UI/UX Design, Fig...|                 Yes|          In Review|      UX/UI Designer|       1|\n",
            "|       20|   Gaurav|Choudhary|Indian Institute ...|Electrical Engine...|8.3|        2024.0|Renewable Energy,...|                 Yes|          Submitted|      Power Engineer|       1|\n",
            "|       21|   Shreya|    Gupta|National Institut...|Electronics and C...|8.0|        2025.0|Signal Processing...|                  No|          Submitted|Communications En...|       1|\n",
            "|       22|   Kartik|    Singh|Indian Institute ...|   Civil Engineering|7.9|        2024.0|Structural Design...|                 Yes|Interview Scheduled| Structural Engineer|       1|\n",
            "+---------+---------+---------+--------------------+--------------------+---+--------------+--------------------+--------------------+-------------------+--------------------+--------+\n",
            "only showing top 20 rows\n",
            "\n"
          ]
        }
      ]
    },
    {
      "cell_type": "markdown",
      "metadata": {
        "id": "4f6a71eb"
      },
      "source": [
        "## Prepare features\n",
        "\n",
        "### Subtask:\n",
        "Select the 'GPA', 'Institute', and 'InternshipExperience' columns as features and handle categorical features like 'Institute' and 'InternshipExperience' using one-hot encoding.\n"
      ]
    },
    {
      "cell_type": "markdown",
      "metadata": {
        "id": "ef823b77"
      },
      "source": [
        "**Reasoning**:\n",
        "Import necessary libraries for feature engineering in PySpark.\n",
        "\n"
      ]
    },
    {
      "cell_type": "code",
      "metadata": {
        "id": "0286ead6"
      },
      "source": [
        "from pyspark.ml.feature import VectorAssembler, OneHotEncoder"
      ],
      "execution_count": 15,
      "outputs": []
    },
    {
      "cell_type": "markdown",
      "metadata": {
        "id": "54b1f2a1"
      },
      "source": [
        "**Reasoning**:\n",
        "Encode the categorical features 'Institute' and 'InternshipExperience' using OneHotEncoder and then assemble all features into a single vector using VectorAssembler.\n",
        "\n"
      ]
    },
    {
      "cell_type": "code",
      "metadata": {
        "colab": {
          "base_uri": "https://localhost:8080/"
        },
        "id": "eI8bJ0FP6kzv",
        "outputId": "e39f8311-5ede-4215-ad5f-8041d0861282"
      },
      "source": [
        "from pyspark.sql.types import DoubleType, IntegerType\n",
        "from pyspark.sql.functions import col, isnull, when\n",
        "from pyspark.ml.feature import StringIndexer, OneHotEncoder, VectorAssembler\n",
        "\n",
        "eligible_statuses = [\"Submitted\", \"In Review\", \"Interview Scheduled\", \"Accepted\"]\n",
        "cleaned_data = data.withColumn(\n",
        "    \"eligible\",\n",
        "    when(col(\"ApplicationStatus\").isin(eligible_statuses), 1).otherwise(0)\n",
        ")\n",
        "\n",
        "cleaned_data = cleaned_data.withColumn(\"GPA_casted\", col(\"GPA\").cast(DoubleType()))\\\n",
        "                   .withColumn(\"GraduationYear_casted\", col(\"GraduationYear\").cast(IntegerType()))\n",
        "\n",
        "filtered_data = cleaned_data.filter(col(\"GPA_casted\").isNotNull() & col(\"GraduationYear_casted\").isNotNull())\n",
        "\n",
        "cleaned_data = filtered_data.select(\"StudentID\", \"FirstName\", \"LastName\", \"Institute\", \"Major\", \"GPA_casted\", \"GraduationYear_casted\", \"Skills\", \"InternshipExperience\", \"ApplicationStatus\", \"PreferredRole\", \"eligible\").withColumnRenamed(\"GPA_casted\", \"GPA\").withColumnRenamed(\"GraduationYear_casted\", \"GraduationYear\")\n",
        "\n",
        "\n",
        "indexer = StringIndexer(inputCols=[\"Institute\", \"InternshipExperience\"], outputCols=[\"Institute_indexed\", \"InternshipExperience_indexed\"])\n",
        "indexed_data = indexer.fit(cleaned_data).transform(cleaned_data)\n",
        "\n",
        "encoder = OneHotEncoder(inputCols=[\"Institute_indexed\", \"InternshipExperience_indexed\"], outputCols=[\"Institute_encoded\", \"InternshipExperience_encoded\"])\n",
        "encoded_data = encoder.fit(indexed_data).transform(indexed_data)\n",
        "\n",
        "assembler = VectorAssembler(inputCols=[\"GPA\", \"Institute_encoded\", \"InternshipExperience_encoded\"], outputCol=\"features\")\n",
        "feature_data = assembler.transform(encoded_data)\n",
        "\n",
        "final_data = feature_data.select(\"features\", \"eligible\")\n",
        "final_data.show()"
      ],
      "execution_count": 18,
      "outputs": [
        {
          "output_type": "stream",
          "name": "stdout",
          "text": [
            "+--------------------+--------+\n",
            "|            features|eligible|\n",
            "+--------------------+--------+\n",
            "|(36,[0,7,35],[8.9...|       1|\n",
            "|(36,[0,14,35],[8....|       1|\n",
            "|(36,[0,1],[7.8,1.0])|       1|\n",
            "|(36,[0,8,35],[9.2...|       1|\n",
            "|(36,[0,15],[8.1,1...|       1|\n",
            "|(36,[0,12,35],[8....|       1|\n",
            "|(36,[0,13,35],[9....|       1|\n",
            "|(36,[0,10],[7.9,1...|       1|\n",
            "|(36,[0,16,35],[8....|       0|\n",
            "|(36,[0,2,35],[8.7...|       1|\n",
            "|(36,[0,11,35],[8....|       1|\n",
            "|(36,[0,6],[8.0,1.0])|       1|\n",
            "|(36,[0,4,35],[8.2...|       1|\n",
            "|(36,[0,5],[7.6,1.0])|       1|\n",
            "|(36,[0,31,35],[8....|       1|\n",
            "|(36,[0,9,35],[9.1...|       1|\n",
            "|(36,[0,1,35],[8.8...|       1|\n",
            "|(36,[0,22,35],[8....|       1|\n",
            "|(36,[0,32],[8.0,1...|       1|\n",
            "|(36,[0,3,35],[7.9...|       1|\n",
            "+--------------------+--------+\n",
            "only showing top 20 rows\n",
            "\n"
          ]
        }
      ]
    },
    {
      "cell_type": "markdown",
      "metadata": {
        "id": "3af6a407"
      },
      "source": [
        "## Split the data\n",
        "\n",
        "### Subtask:\n",
        "Split the data into training and testing sets.\n"
      ]
    },
    {
      "cell_type": "markdown",
      "metadata": {
        "id": "645828a8"
      },
      "source": [
        "**Reasoning**:\n",
        "Split the final_data DataFrame into training and testing sets using randomSplit and then display the counts of rows for both sets.\n",
        "\n"
      ]
    },
    {
      "cell_type": "code",
      "metadata": {
        "colab": {
          "base_uri": "https://localhost:8080/"
        },
        "id": "12bec47a",
        "outputId": "7e0309fa-148c-4883-fdb3-e51a49fbc1e7"
      },
      "source": [
        "training_data, testing_data = final_data.randomSplit([0.7, 0.3], seed=42)\n",
        "\n",
        "print(\"Training data count:\", training_data.count())\n",
        "training_data.show(5)\n",
        "\n",
        "print(\"Testing data count:\", testing_data.count())\n",
        "testing_data.show(5)"
      ],
      "execution_count": 19,
      "outputs": [
        {
          "output_type": "stream",
          "name": "stdout",
          "text": [
            "Training data count: 365\n",
            "+--------------+--------+\n",
            "|      features|eligible|\n",
            "+--------------+--------+\n",
            "|(36,[0],[7.5])|       1|\n",
            "|(36,[0],[7.5])|       1|\n",
            "|(36,[0],[7.5])|       1|\n",
            "|(36,[0],[7.5])|       1|\n",
            "|(36,[0],[7.5])|       1|\n",
            "+--------------+--------+\n",
            "only showing top 5 rows\n",
            "\n",
            "Testing data count: 124\n",
            "+--------------------+--------+\n",
            "|            features|eligible|\n",
            "+--------------------+--------+\n",
            "|      (36,[0],[7.5])|       1|\n",
            "|      (36,[0],[7.5])|       1|\n",
            "|      (36,[0],[7.5])|       1|\n",
            "|      (36,[0],[7.5])|       1|\n",
            "|(36,[0,1],[7.8,1.0])|       1|\n",
            "+--------------------+--------+\n",
            "only showing top 5 rows\n",
            "\n"
          ]
        }
      ]
    },
    {
      "cell_type": "markdown",
      "metadata": {
        "id": "b861964e"
      },
      "source": [
        "## Build and train the model\n",
        "\n",
        "### Subtask:\n",
        "Build a logistic regression model using the prepared features and the binary target variable, and train the model on the training data.\n"
      ]
    },
    {
      "cell_type": "markdown",
      "metadata": {
        "id": "a97ff6f2"
      },
      "source": [
        "**Reasoning**:\n",
        "Build and train a logistic regression model using the training data.\n",
        "\n"
      ]
    },
    {
      "cell_type": "code",
      "metadata": {
        "id": "1b085d66"
      },
      "source": [
        "from pyspark.ml.classification import LogisticRegression\n",
        "\n",
        "lr = LogisticRegression(featuresCol=\"features\", labelCol=\"eligible\")\n",
        "lr_model = lr.fit(training_data)"
      ],
      "execution_count": 20,
      "outputs": []
    },
    {
      "cell_type": "markdown",
      "metadata": {
        "id": "7c5b9244"
      },
      "source": [
        "## Evaluate the model\n",
        "\n",
        "### Subtask:\n",
        "Evaluate the trained model's performance on the testing data using appropriate metrics like accuracy, precision, recall, and F1-score.\n"
      ]
    },
    {
      "cell_type": "markdown",
      "metadata": {
        "id": "f094abcc"
      },
      "source": [
        "**Reasoning**:\n",
        "Make predictions on the testing data and evaluate the model's performance using AUC, accuracy, precision, recall, and F1-score.\n",
        "\n"
      ]
    },
    {
      "cell_type": "code",
      "metadata": {
        "colab": {
          "base_uri": "https://localhost:8080/"
        },
        "id": "788d9349",
        "outputId": "625f8dc9-cb6f-435a-c6b3-c7783de181eb"
      },
      "source": [
        "from pyspark.ml.evaluation import BinaryClassificationEvaluator\n",
        "from pyspark.sql.functions import col\n",
        "\n",
        "predictions = lr_model.transform(testing_data)\n",
        "\n",
        "evaluator = BinaryClassificationEvaluator(labelCol=\"eligible\", rawPredictionCol=\"rawPrediction\", metricName=\"areaUnderROC\")\n",
        "auc = evaluator.evaluate(predictions)\n",
        "print(f\"Area Under ROC (AUC) on testing data: {auc}\")\n",
        "\n",
        "predictions.createOrReplaceTempView(\"predictions_table\")\n",
        "\n",
        "accuracy = spark.sql(\"\"\"\n",
        "    SELECT CAST(SUM(CASE WHEN eligible = prediction THEN 1 ELSE 0 END) AS DOUBLE) / COUNT(*)\n",
        "    FROM predictions_table\n",
        "\"\"\").collect()[0][0]\n",
        "\n",
        "precision = spark.sql(\"\"\"\n",
        "    SELECT CAST(SUM(CASE WHEN eligible = 1 AND prediction = 1 THEN 1 ELSE 0 END) AS DOUBLE) / SUM(CASE WHEN prediction = 1 THEN 1 ELSE 0 END)\n",
        "    FROM predictions_table\n",
        "\"\"\").collect()[0][0]\n",
        "\n",
        "recall = spark.sql(\"\"\"\n",
        "    SELECT CAST(SUM(CASE WHEN eligible = 1 AND prediction = 1 THEN 1 ELSE 0 END) AS DOUBLE) / SUM(CASE WHEN eligible = 1 THEN 1 ELSE 0 END)\n",
        "    FROM predictions_table\n",
        "\"\"\").collect()[0][0]\n",
        "\n",
        "f1 = 2 * (precision * recall) / (precision + recall) if (precision + recall) > 0 else 0\n",
        "\n",
        "print(f\"Accuracy on testing data: {accuracy}\")\n",
        "print(f\"Precision on testing data: {precision}\")\n",
        "print(f\"Recall on testing data: {recall}\")\n",
        "print(f\"F1-score on testing data: {f1}\")"
      ],
      "execution_count": 21,
      "outputs": [
        {
          "output_type": "stream",
          "name": "stdout",
          "text": [
            "Area Under ROC (AUC) on testing data: 1.0\n",
            "Accuracy on testing data: 1.0\n",
            "Precision on testing data: 1.0\n",
            "Recall on testing data: 1.0\n",
            "F1-score on testing data: 1.0\n"
          ]
        }
      ]
    },
    {
      "cell_type": "markdown",
      "metadata": {
        "id": "9932ffcf"
      },
      "source": [
        "# Task\n",
        "Predict job eligibility for a person based on their name using a trained logistic regression model on the 'GPA', 'Institute', and 'InternshipExperience' features from the \"cleaned_data\" dataframe. The output should be \"He/She is elgible for the job\" if the prediction is positive and \"He/She is not elgible for the job\" if the prediction is negative."
      ]
    },
    {
      "cell_type": "markdown",
      "metadata": {
        "id": "4dd8fcc2"
      },
      "source": [
        "## Get user input\n",
        "\n",
        "### Subtask:\n",
        "Create an input field for the user to enter the name of a person.\n"
      ]
    },
    {
      "cell_type": "markdown",
      "metadata": {
        "id": "b7e32847"
      },
      "source": [
        "**Reasoning**:\n",
        "Create a text input field for the user to enter the name of a person and store the input in a variable.\n",
        "\n"
      ]
    },
    {
      "cell_type": "code",
      "metadata": {
        "colab": {
          "base_uri": "https://localhost:8080/"
        },
        "id": "c07c09db",
        "outputId": "4e723112-5d7c-4266-8323-716b313d08ec"
      },
      "source": [
        "person_name = input(\"Enter the name of the person: \")\n",
        "print(f\"You entered: {person_name}\")"
      ],
      "execution_count": 30,
      "outputs": [
        {
          "output_type": "stream",
          "name": "stdout",
          "text": [
            "Enter the name of the person: Aditya\n",
            "You entered: Aditya\n"
          ]
        }
      ]
    },
    {
      "cell_type": "markdown",
      "metadata": {
        "id": "df2bcaa7"
      },
      "source": [
        "## Find the person's data\n",
        "\n",
        "### Subtask:\n",
        "Filter the `cleaned_data` DataFrame to find the row corresponding to the entered name.\n"
      ]
    },
    {
      "cell_type": "markdown",
      "metadata": {
        "id": "00e176d1"
      },
      "source": [
        "**Reasoning**:\n",
        "Filter the `cleaned_data` DataFrame to select the row where the 'FirstName' column matches the `person_name` variable, store it in a new DataFrame, and display its schema and contents.\n",
        "\n"
      ]
    },
    {
      "cell_type": "code",
      "metadata": {
        "colab": {
          "base_uri": "https://localhost:8080/"
        },
        "id": "e7ef743c",
        "outputId": "d3e1a557-5038-427a-c328-1daf04f471e9"
      },
      "source": [
        "filtered_person_data = cleaned_data.filter(col(\"FirstName\") == person_name)\n",
        "filtered_person_data.printSchema()\n",
        "filtered_person_data.show()"
      ],
      "execution_count": 31,
      "outputs": [
        {
          "output_type": "stream",
          "name": "stdout",
          "text": [
            "root\n",
            " |-- StudentID: integer (nullable = true)\n",
            " |-- FirstName: string (nullable = true)\n",
            " |-- LastName: string (nullable = true)\n",
            " |-- Institute: string (nullable = true)\n",
            " |-- Major: string (nullable = true)\n",
            " |-- GPA: double (nullable = true)\n",
            " |-- GraduationYear: integer (nullable = true)\n",
            " |-- Skills: string (nullable = true)\n",
            " |-- InternshipExperience: string (nullable = false)\n",
            " |-- ApplicationStatus: string (nullable = true)\n",
            " |-- PreferredRole: string (nullable = true)\n",
            " |-- eligible: integer (nullable = false)\n",
            "\n",
            "+---------+---------+--------+--------------------+--------------------+---+--------------+--------------------+--------------------+-------------------+--------------------+--------+\n",
            "|StudentID|FirstName|LastName|           Institute|               Major|GPA|GraduationYear|              Skills|InternshipExperience|  ApplicationStatus|       PreferredRole|eligible|\n",
            "+---------+---------+--------+--------------------+--------------------+---+--------------+--------------------+--------------------+-------------------+--------------------+--------+\n",
            "|        3|   Aditya|  Mishra|Indian Institute ...|Mechanical Engine...|7.8|          2024|CAD, SolidWorks, ...|                  No|          Submitted| Mechanical Engineer|       1|\n",
            "|       76|   Aditya|   Singh|Indian Institute ...|Electrical Engine...|8.2|          2025|Embedded Systems,...|                 Yes|          In Review|Embedded Systems ...|       1|\n",
            "|      109|   Aditya|   Mehta|National Institut...|    Computer Science|9.1|          2024|Data Science, Mac...|                 Yes|Interview Scheduled|      Data Scientist|       1|\n",
            "|      125|   Aditya|   Singh|Indian Institute ...|Electrical Engine...|8.2|          2025|Embedded Systems,...|                 Yes|          In Review|Embedded Systems ...|       1|\n",
            "|      158|   Aditya|   Mehta|National Institut...|    Computer Science|9.1|          2024|Data Science, Mac...|                 Yes|Interview Scheduled|      Data Scientist|       1|\n",
            "|      174|   Aditya|   Singh|Indian Institute ...|Electrical Engine...|8.2|          2025|Embedded Systems,...|                 Yes|          In Review|Embedded Systems ...|       1|\n",
            "|      207|   Aditya|   Mehta|National Institut...|    Computer Science|9.1|          2024|Data Science, Mac...|                 Yes|Interview Scheduled|      Data Scientist|       1|\n",
            "|      223|   Aditya|   Singh|Indian Institute ...|Electrical Engine...|8.2|          2025|Embedded Systems,...|                 Yes|          In Review|Embedded Systems ...|       1|\n",
            "|      256|   Aditya|   Mehta|National Institut...|    Computer Science|9.1|          2024|Data Science, Mac...|                 Yes|Interview Scheduled|      Data Scientist|       1|\n",
            "|      272|   Aditya|   Singh|Indian Institute ...|Electrical Engine...|8.2|          2025|Embedded Systems,...|                 Yes|          In Review|Embedded Systems ...|       1|\n",
            "|      305|   Aditya|   Mehta|National Institut...|    Computer Science|9.1|          2024|Data Science, Mac...|                 Yes|Interview Scheduled|      Data Scientist|       1|\n",
            "|      321|   Aditya|   Singh|Indian Institute ...|Electrical Engine...|8.2|          2025|Embedded Systems,...|                 Yes|          In Review|Embedded Systems ...|       1|\n",
            "|      354|   Aditya|   Mehta|National Institut...|    Computer Science|9.1|          2024|Data Science, Mac...|                 Yes|Interview Scheduled|      Data Scientist|       1|\n",
            "|      370|   Aditya|   Singh|Indian Institute ...|Electrical Engine...|8.2|          2025|Embedded Systems,...|                 Yes|          In Review|Embedded Systems ...|       1|\n",
            "|      403|   Aditya|   Mehta|National Institut...|    Computer Science|9.1|          2024|Data Science, Mac...|                 Yes|Interview Scheduled|      Data Scientist|       1|\n",
            "|      419|   Aditya|   Singh|Indian Institute ...|Electrical Engine...|8.2|          2025|Embedded Systems,...|                 Yes|          In Review|Embedded Systems ...|       1|\n",
            "|      452|   Aditya|   Mehta|National Institut...|    Computer Science|9.1|          2024|Data Science, Mac...|                 Yes|Interview Scheduled|      Data Scientist|       1|\n",
            "|      468|   Aditya|   Singh|Indian Institute ...|Electrical Engine...|8.2|          2025|Embedded Systems,...|                 Yes|          In Review|Embedded Systems ...|       1|\n",
            "+---------+---------+--------+--------------------+--------------------+---+--------------+--------------------+--------------------+-------------------+--------------------+--------+\n",
            "\n"
          ]
        }
      ]
    },
    {
      "cell_type": "markdown",
      "metadata": {
        "id": "1f8598ff"
      },
      "source": [
        "## Prepare features for prediction\n",
        "\n",
        "### Subtask:\n",
        "Transform the selected row's 'GPA', 'Institute', and 'InternshipExperience' into the same feature vector format used for training the model.\n"
      ]
    },
    {
      "cell_type": "markdown",
      "metadata": {
        "id": "92534237"
      },
      "source": [
        "**Reasoning**:\n",
        "Apply the fitted StringIndexer, OneHotEncoder, and VectorAssembler to transform the selected row into the same feature vector format used for training the model, and then select the features column.\n",
        "\n"
      ]
    },
    {
      "cell_type": "code",
      "metadata": {
        "colab": {
          "base_uri": "https://localhost:8080/"
        },
        "id": "HAk-LLeSmU1t",
        "outputId": "fe18e4b4-5727-4c7c-f112-7e6ef57dc4fb"
      },
      "source": [
        "from pyspark.sql.types import DoubleType, IntegerType\n",
        "from pyspark.sql.functions import col, isnull, when\n",
        "from pyspark.ml.feature import StringIndexer, OneHotEncoder, VectorAssembler\n",
        "\n",
        "eligible_statuses = [\"Submitted\", \"In Review\", \"Interview Scheduled\", \"Accepted\"]\n",
        "cleaned_data = data.withColumn(\n",
        "    \"eligible\",\n",
        "    when(col(\"ApplicationStatus\").isin(eligible_statuses), 1).otherwise(0)\n",
        ")\n",
        "\n",
        "cleaned_data = cleaned_data.withColumn(\"GPA_casted\", col(\"GPA\").cast(DoubleType()))\\\n",
        "                   .withColumn(\"GraduationYear_casted\", col(\"GraduationYear\").cast(IntegerType()))\n",
        "\n",
        "filtered_data = cleaned_data.filter(col(\"GPA_casted\").isNotNull() & col(\"GraduationYear_casted\").isNotNull())\n",
        "\n",
        "cleaned_data = filtered_data.select(\"StudentID\", \"FirstName\", \"LastName\", \"Institute\", \"Major\", \"GPA_casted\", \"GraduationYear_casted\", \"Skills\", \"InternshipExperience\", \"ApplicationStatus\", \"PreferredRole\", \"eligible\").withColumnRenamed(\"GPA_casted\", \"GPA\").withColumnRenamed(\"GraduationYear_casted\", \"GraduationYear\")\n",
        "\n",
        "\n",
        "indexer = StringIndexer(inputCols=[\"Institute\", \"InternshipExperience\"], outputCols=[\"Institute_indexed\", \"InternshipExperience_indexed\"])\n",
        "indexer_model = indexer.fit(cleaned_data)\n",
        "indexed_data = indexer_model.transform(cleaned_data)\n",
        "\n",
        "encoder = OneHotEncoder(inputCols=[\"Institute_indexed\", \"InternshipExperience_indexed\"], outputCols=[\"Institute_encoded\", \"InternshipExperience_encoded\"])\n",
        "encoder_model = encoder.fit(indexed_data)\n",
        "encoded_data = encoder_model.transform(indexed_data)\n",
        "\n",
        "assembler = VectorAssembler(inputCols=[\"GPA\", \"Institute_encoded\", \"InternshipExperience_encoded\"], outputCol=\"features\")\n",
        "feature_data = assembler.transform(encoded_data)\n",
        "\n",
        "\n",
        "indexed_person_data = indexer_model.transform(filtered_person_data)\n",
        "encoded_person_data = encoder_model.transform(indexed_person_data)\n",
        "feature_person_data = assembler.transform(encoded_person_data)\n",
        "person_features = feature_person_data.select(\"features\")\n",
        "person_features.show()"
      ],
      "execution_count": 33,
      "outputs": [
        {
          "output_type": "stream",
          "name": "stdout",
          "text": [
            "+--------------------+\n",
            "|            features|\n",
            "+--------------------+\n",
            "|(36,[0,1],[7.8,1.0])|\n",
            "|(36,[0,24,35],[8....|\n",
            "|(36,[0,2,35],[9.1...|\n",
            "|(36,[0,24,35],[8....|\n",
            "|(36,[0,2,35],[9.1...|\n",
            "|(36,[0,24,35],[8....|\n",
            "|(36,[0,2,35],[9.1...|\n",
            "|(36,[0,24,35],[8....|\n",
            "|(36,[0,2,35],[9.1...|\n",
            "|(36,[0,24,35],[8....|\n",
            "|(36,[0,2,35],[9.1...|\n",
            "|(36,[0,24,35],[8....|\n",
            "|(36,[0,2,35],[9.1...|\n",
            "|(36,[0,24,35],[8....|\n",
            "|(36,[0,2,35],[9.1...|\n",
            "|(36,[0,24,35],[8....|\n",
            "|(36,[0,2,35],[9.1...|\n",
            "|(36,[0,24,35],[8....|\n",
            "+--------------------+\n",
            "\n"
          ]
        }
      ]
    },
    {
      "cell_type": "markdown",
      "metadata": {
        "id": "3e57ca70"
      },
      "source": [
        "## Make a prediction\n",
        "\n",
        "### Subtask:\n",
        "Use the trained logistic regression model (`lr_model`) to predict the eligibility for the person's feature vector.\n"
      ]
    },
    {
      "cell_type": "markdown",
      "metadata": {
        "id": "c09dfb01"
      },
      "source": [
        "**Reasoning**:\n",
        "Use the trained logistic regression model (`lr_model`) to predict the eligibility for the person's feature vector and show the prediction results.\n",
        "\n"
      ]
    },
    {
      "cell_type": "code",
      "metadata": {
        "colab": {
          "base_uri": "https://localhost:8080/"
        },
        "id": "b8934e3a",
        "outputId": "5d05cfb0-86bd-4b97-d0e3-95afeb7ccc90"
      },
      "source": [
        "person_prediction = lr_model.transform(person_features)\n",
        "person_prediction.show()"
      ],
      "execution_count": 34,
      "outputs": [
        {
          "output_type": "stream",
          "name": "stdout",
          "text": [
            "+--------------------+--------------------+--------------------+----------+\n",
            "|            features|       rawPrediction|         probability|prediction|\n",
            "+--------------------+--------------------+--------------------+----------+\n",
            "|(36,[0,1],[7.8,1.0])|[-55.963254218135...|[4.95983813789640...|       1.0|\n",
            "|(36,[0,24,35],[8....|[-19.717567452222...|[2.73381585404535...|       1.0|\n",
            "|(36,[0,2,35],[9.1...|[-19.456874339936...|[3.54802635824263...|       1.0|\n",
            "|(36,[0,24,35],[8....|[-19.717567452222...|[2.73381585404535...|       1.0|\n",
            "|(36,[0,2,35],[9.1...|[-19.456874339936...|[3.54802635824263...|       1.0|\n",
            "|(36,[0,24,35],[8....|[-19.717567452222...|[2.73381585404535...|       1.0|\n",
            "|(36,[0,2,35],[9.1...|[-19.456874339936...|[3.54802635824263...|       1.0|\n",
            "|(36,[0,24,35],[8....|[-19.717567452222...|[2.73381585404535...|       1.0|\n",
            "|(36,[0,2,35],[9.1...|[-19.456874339936...|[3.54802635824263...|       1.0|\n",
            "|(36,[0,24,35],[8....|[-19.717567452222...|[2.73381585404535...|       1.0|\n",
            "|(36,[0,2,35],[9.1...|[-19.456874339936...|[3.54802635824263...|       1.0|\n",
            "|(36,[0,24,35],[8....|[-19.717567452222...|[2.73381585404535...|       1.0|\n",
            "|(36,[0,2,35],[9.1...|[-19.456874339936...|[3.54802635824263...|       1.0|\n",
            "|(36,[0,24,35],[8....|[-19.717567452222...|[2.73381585404535...|       1.0|\n",
            "|(36,[0,2,35],[9.1...|[-19.456874339936...|[3.54802635824263...|       1.0|\n",
            "|(36,[0,24,35],[8....|[-19.717567452222...|[2.73381585404535...|       1.0|\n",
            "|(36,[0,2,35],[9.1...|[-19.456874339936...|[3.54802635824263...|       1.0|\n",
            "|(36,[0,24,35],[8....|[-19.717567452222...|[2.73381585404535...|       1.0|\n",
            "+--------------------+--------------------+--------------------+----------+\n",
            "\n"
          ]
        }
      ]
    },
    {
      "cell_type": "markdown",
      "metadata": {
        "id": "e45302f7"
      },
      "source": [
        "## Display the prediction\n",
        "\n",
        "### Subtask:\n",
        "Based on the model's prediction, print a message indicating whether the person is eligible for the job or not.\n"
      ]
    },
    {
      "cell_type": "markdown",
      "metadata": {
        "id": "83aca843"
      },
      "source": [
        "**Reasoning**:\n",
        "Extract the prediction from the person_prediction DataFrame and print the corresponding eligibility message.\n",
        "\n"
      ]
    },
    {
      "cell_type": "code",
      "metadata": {
        "colab": {
          "base_uri": "https://localhost:8080/"
        },
        "id": "d730343a",
        "outputId": "9e0af7a6-df81-4fa3-fe7b-0d2f8e474fe7"
      },
      "source": [
        "prediction_value = person_prediction.select(\"prediction\").collect()[0][0]\n",
        "\n",
        "if prediction_value == 1.0:\n",
        "    print(\"He/She is eligible for the job\")\n",
        "else:\n",
        "    print(\"He/She is not eligible for the job\")"
      ],
      "execution_count": 36,
      "outputs": [
        {
          "output_type": "stream",
          "name": "stdout",
          "text": [
            "He/She is eligible for the job\n"
          ]
        }
      ]
    },
    {
      "cell_type": "markdown",
      "metadata": {
        "id": "5cd97929"
      },
      "source": [
        "# Task\n",
        "Predict job eligibility for a person based on their Student ID using a trained logistic regression model on 'GPA', 'Institute', and 'InternshipExperience'. The output should be \"He/She is elgible for the job\" if eligible and \"He/She is not elgible for the job\" if not eligible."
      ]
    },
    {
      "cell_type": "markdown",
      "metadata": {
        "id": "b4dec93e"
      },
      "source": [
        "## Get user input\n",
        "\n",
        "### Subtask:\n",
        "Create an input field for the user to enter the Student ID of a person.\n"
      ]
    },
    {
      "cell_type": "markdown",
      "metadata": {
        "id": "fb493930"
      },
      "source": [
        "**Reasoning**:\n",
        "Create a text input field for the user to enter the Student ID of a person and store the input in a variable, then print the entered Student ID.\n",
        "\n"
      ]
    },
    {
      "cell_type": "code",
      "metadata": {
        "colab": {
          "base_uri": "https://localhost:8080/"
        },
        "id": "1a30fe8b",
        "outputId": "aaa84288-d421-411b-c6d1-df6ba3a6df55"
      },
      "source": [
        "student_id = input(\"Enter the Student ID of the person: \")\n",
        "print(f\"You entered: {student_id}\")"
      ],
      "execution_count": 43,
      "outputs": [
        {
          "output_type": "stream",
          "name": "stdout",
          "text": [
            "Enter the Student ID of the person: 35\n",
            "You entered: 35\n"
          ]
        }
      ]
    },
    {
      "cell_type": "markdown",
      "metadata": {
        "id": "6f567c78"
      },
      "source": [
        "## Find the person's data\n",
        "\n",
        "### Subtask:\n",
        "Filter the `cleaned_data` DataFrame to find the row corresponding to the entered Student ID.\n"
      ]
    },
    {
      "cell_type": "markdown",
      "metadata": {
        "id": "bafcaf4f"
      },
      "source": [
        "**Reasoning**:\n",
        "Convert the student_id string variable to an integer, filter the cleaned_data DataFrame to select the row where the 'StudentID' column matches the integer student_id, store the filtered row in a new DataFrame called filtered_person_data, display the schema of filtered_person_data, and show the contents of filtered_person_data.\n",
        "\n"
      ]
    },
    {
      "cell_type": "code",
      "metadata": {
        "colab": {
          "base_uri": "https://localhost:8080/"
        },
        "id": "fca8de41",
        "outputId": "ca774586-d870-4b6f-9f18-075f322578e6"
      },
      "source": [
        "student_id_int = int(student_id)\n",
        "filtered_person_data = cleaned_data.filter(col(\"StudentID\") == student_id_int)\n",
        "filtered_person_data.printSchema()\n",
        "filtered_person_data.show()"
      ],
      "execution_count": 44,
      "outputs": [
        {
          "output_type": "stream",
          "name": "stdout",
          "text": [
            "root\n",
            " |-- StudentID: integer (nullable = true)\n",
            " |-- FirstName: string (nullable = true)\n",
            " |-- LastName: string (nullable = true)\n",
            " |-- Institute: string (nullable = true)\n",
            " |-- Major: string (nullable = true)\n",
            " |-- GPA: double (nullable = true)\n",
            " |-- GraduationYear: integer (nullable = true)\n",
            " |-- Skills: string (nullable = true)\n",
            " |-- InternshipExperience: string (nullable = false)\n",
            " |-- ApplicationStatus: string (nullable = true)\n",
            " |-- PreferredRole: string (nullable = true)\n",
            " |-- eligible: integer (nullable = false)\n",
            "\n",
            "+---------+---------+--------+--------------------+--------------------+---+--------------+--------------------+--------------------+-----------------+--------------------+--------+\n",
            "|StudentID|FirstName|LastName|           Institute|               Major|GPA|GraduationYear|              Skills|InternshipExperience|ApplicationStatus|       PreferredRole|eligible|\n",
            "+---------+---------+--------+--------------------+--------------------+---+--------------+--------------------+--------------------+-----------------+--------------------+--------+\n",
            "|       35|    Palak|    Jain|Indian Institute ...|Chemical Engineering|7.7|          2024|Environmental Eng...|                 Yes|        Submitted|Environmental Eng...|       1|\n",
            "+---------+---------+--------+--------------------+--------------------+---+--------------+--------------------+--------------------+-----------------+--------------------+--------+\n",
            "\n"
          ]
        }
      ]
    },
    {
      "cell_type": "markdown",
      "metadata": {
        "id": "76ff86b0"
      },
      "source": [
        "## Prepare features for prediction\n",
        "\n",
        "### Subtask:\n",
        "Transform the selected row's 'GPA', 'Institute', and 'InternshipExperience' into the same feature vector format used for training the model.\n"
      ]
    },
    {
      "cell_type": "markdown",
      "metadata": {
        "id": "59d0f4f2"
      },
      "source": [
        "**Reasoning**:\n",
        "Apply the fitted StringIndexer, OneHotEncoder, and VectorAssembler to transform the selected row into the same feature vector format used for training the model, and then select the features column.\n",
        "\n"
      ]
    },
    {
      "cell_type": "code",
      "metadata": {
        "colab": {
          "base_uri": "https://localhost:8080/"
        },
        "id": "fd0b14bd",
        "outputId": "c3fcc0c1-471c-4da6-d089-8a521fad11aa"
      },
      "source": [
        "indexed_person_data = indexer_model.transform(filtered_person_data)\n",
        "encoded_person_data = encoder_model.transform(indexed_person_data)\n",
        "feature_person_data = assembler.transform(encoded_person_data)\n",
        "person_features = feature_person_data.select(\"features\")\n",
        "person_features.show()"
      ],
      "execution_count": 45,
      "outputs": [
        {
          "output_type": "stream",
          "name": "stdout",
          "text": [
            "+--------------------+\n",
            "|            features|\n",
            "+--------------------+\n",
            "|(36,[0,27,35],[7....|\n",
            "+--------------------+\n",
            "\n"
          ]
        }
      ]
    },
    {
      "cell_type": "markdown",
      "metadata": {
        "id": "39d3070a"
      },
      "source": [
        "## Make a prediction\n",
        "\n",
        "### Subtask:\n",
        "Use the trained logistic regression model (`lr_model`) to predict the eligibility for the person's feature vector.\n"
      ]
    },
    {
      "cell_type": "markdown",
      "metadata": {
        "id": "ace3c609"
      },
      "source": [
        "**Reasoning**:\n",
        "Use the trained logistic regression model (`lr_model`) to predict the eligibility for the person's feature vector and show the prediction results.\n",
        "\n"
      ]
    },
    {
      "cell_type": "code",
      "metadata": {
        "colab": {
          "base_uri": "https://localhost:8080/"
        },
        "id": "f91433ef",
        "outputId": "962af218-6a5d-4dd0-b9d3-402d6084ae7c"
      },
      "source": [
        "person_prediction = lr_model.transform(person_features)\n",
        "person_prediction.show()"
      ],
      "execution_count": 46,
      "outputs": [
        {
          "output_type": "stream",
          "name": "stdout",
          "text": [
            "+--------------------+--------------------+--------------------+----------+\n",
            "|            features|       rawPrediction|         probability|prediction|\n",
            "+--------------------+--------------------+--------------------+----------+\n",
            "|(36,[0,27,35],[7....|[-19.791481618749...|[2.53903532518844...|       1.0|\n",
            "+--------------------+--------------------+--------------------+----------+\n",
            "\n"
          ]
        }
      ]
    },
    {
      "cell_type": "markdown",
      "metadata": {
        "id": "fa29a40d"
      },
      "source": [
        "**Reasoning**:\n",
        "Extract the prediction from the person_prediction DataFrame and print the corresponding eligibility message.\n",
        "\n"
      ]
    },
    {
      "cell_type": "code",
      "metadata": {
        "colab": {
          "base_uri": "https://localhost:8080/"
        },
        "id": "2b52fe3e",
        "outputId": "2752630f-28e3-4095-8273-3b15b4b2d021"
      },
      "source": [
        "prediction_value = person_prediction.select(\"prediction\").collect()[0][0]\n",
        "\n",
        "if prediction_value == 1.0:\n",
        "    print(\"He/She is eligible for the job\")\n",
        "else:\n",
        "    print(\"He/She is not eligible for the job\")"
      ],
      "execution_count": 47,
      "outputs": [
        {
          "output_type": "stream",
          "name": "stdout",
          "text": [
            "He/She is eligible for the job\n"
          ]
        }
      ]
    },
    {
      "cell_type": "markdown",
      "metadata": {
        "id": "cd5e59de"
      },
      "source": [
        "## Summary:\n",
        "\n",
        "### Data Analysis Key Findings\n",
        "\n",
        "*   The process successfully filtered the dataset to isolate the data for the individual based on their Student ID.\n",
        "*   The individual's data ('GPA', 'Institute', and 'InternshipExperience') was successfully transformed into a feature vector format compatible with the trained logistic regression model.\n",
        "*   The logistic regression model predicted a value of 1.0 for the individual's feature vector.\n",
        "\n",
        "### Insights or Next Steps\n",
        "\n",
        "*   The trained logistic regression model predicted that the individual is eligible for the job.\n",
        "*   The final output message correctly stated \"He/She is eligible for the job\" based on the model's prediction.\n"
      ]
    }
  ]
}